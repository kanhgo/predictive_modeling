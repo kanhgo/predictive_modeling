{
  "cells": [
    {
      "cell_type": "markdown",
      "metadata": {
        "id": "view-in-github",
        "colab_type": "text"
      },
      "source": [
        "<a href=\"https://colab.research.google.com/github/kanhgo/predictive_modeling/blob/main/Diabetes_predictor_v4.ipynb\" target=\"_parent\"><img src=\"https://colab.research.google.com/assets/colab-badge.svg\" alt=\"Open In Colab\"/></a>"
      ]
    },
    {
      "cell_type": "markdown",
      "id": "033a3f06-0360-4008-96e2-fada0195e87c",
      "metadata": {
        "id": "033a3f06-0360-4008-96e2-fada0195e87c"
      },
      "source": [
        "# EMPOWERING ACTION FOR BETTER HEALTH OUTCOMES"
      ]
    },
    {
      "cell_type": "markdown",
      "id": "8dbef493-0dea-44e5-ad9a-9a70094c5f8a",
      "metadata": {
        "id": "8dbef493-0dea-44e5-ad9a-9a70094c5f8a"
      },
      "source": [
        "# Objective\n",
        "To develop a predictive model to forecast the likelihood of diabetes diagnosis using demographic and behavioral risk factors from the CDCs BRFSS 2015 dataset."
      ]
    },
    {
      "cell_type": "markdown",
      "id": "86682a49-86c2-442a-bfa6-17bd802f4269",
      "metadata": {
        "id": "86682a49-86c2-442a-bfa6-17bd802f4269"
      },
      "source": [
        "## Importance\n",
        "\n",
        "Diabetes is a significant public health concern in the United States, affecting millions of individuals across various demographics. By using predictive analytics and data-driven approaches, health planners can identify high-risk populations and allocate resources more effectively. For instance, models can guide the implementation of educational programs in schools to break the normalization of diabetes and its prevalence. Additionally, these models can help in planning initiatives to increase access to fresh food options in neighborhoods, thus promoting healthier lifestyles and potentially reducing the incidence of diabetes and improving health outcomes overall.\n",
        "\n",
        "Althought this dataset and modeling exercise is US focused, it also provides a reference point for efforts in other geographical locations where diabetes prevelance is a concern. An understanding of cultural differences and practices can guide creation of an appropriate survey to curate and collect relevant data to support predictive modeling."
      ]
    },
    {
      "cell_type": "markdown",
      "id": "2f796508-97af-433b-b2f3-4a751c5c5b70",
      "metadata": {
        "id": "2f796508-97af-433b-b2f3-4a751c5c5b70"
      },
      "source": [
        "## About the dataset\n",
        "- Data source: [Diabetes Health Indicators Dataset](https://www.kaggle.com/datasets/alexteboul/diabetes-health-indicators-dataset). This data subset was based on the CDC Behavioral Risk Factor Surveillance System (BRFSS)(2015) data found [here](https://www.cdc.gov/brfss/annual_data/annual_2015.html).\n",
        "- Obtained clean and composed of 253,680 rows of survey responses, with 21 feature variables.\n",
        "- The feature variables are predominantly categorical (including numeric ranges such as 5-year age ranges, or income ranges), with the classes represented by nominals e.g. 0, 1 (where the numbers are just labels and don't represent any order). BMI, number of days mental health not good (MentHlth), and number of days physical health not good (PhysHlth) are the continuous variables present.\n",
        "- The target variable has three (3) classes which have also been represented by nominals: 0 - no diabetes or only gestational, 1 - prediabetes, 2 - diabetes."
      ]
    },
    {
      "cell_type": "markdown",
      "id": "9a276222-4261-4993-b739-bd9653e0aaef",
      "metadata": {
        "id": "9a276222-4261-4993-b739-bd9653e0aaef"
      },
      "source": [
        "## EXPLORATORY DATA ANALYSIS\n",
        "Exploratory data analysis was an opportunity to\n",
        "- gain a deeper understanding of the dataset,\n",
        "- assess relationships between variables,\n",
        "- make initial assessments about the suitability of variables for prediction\n",
        "- and other considerations such as the need for scaling."
      ]
    },
    {
      "cell_type": "code",
      "execution_count": null,
      "id": "b0f392d2-2bb6-49a0-b158-4947442dfc0b",
      "metadata": {
        "id": "b0f392d2-2bb6-49a0-b158-4947442dfc0b"
      },
      "outputs": [],
      "source": [
        "# Required libraries\n",
        "import pandas as pd\n",
        "import numpy as np\n",
        "import seaborn as sns\n",
        "import matplotlib.pyplot as plt"
      ]
    },
    {
      "cell_type": "code",
      "execution_count": null,
      "id": "dfb5e7bd-4d85-4024-9aa9-ee599dafef6d",
      "metadata": {
        "id": "dfb5e7bd-4d85-4024-9aa9-ee599dafef6d"
      },
      "outputs": [],
      "source": [
        "# Loaded data\n",
        "df = pd.read_csv('https://raw.githubusercontent.com/kanhgo/predictive_modeling/refs/heads/main/diabetes_012_health_indicators_BRFSS2015.csv')"
      ]
    },
    {
      "cell_type": "code",
      "execution_count": null,
      "id": "6696c6f1-bf91-45a5-b037-ed90fca08f66",
      "metadata": {
        "id": "6696c6f1-bf91-45a5-b037-ed90fca08f66",
        "outputId": "40a3578a-3981-40c6-ee67-1c84b34ed797"
      },
      "outputs": [
        {
          "data": {
            "text/html": [
              "<div>\n",
              "<style scoped>\n",
              "    .dataframe tbody tr th:only-of-type {\n",
              "        vertical-align: middle;\n",
              "    }\n",
              "\n",
              "    .dataframe tbody tr th {\n",
              "        vertical-align: top;\n",
              "    }\n",
              "\n",
              "    .dataframe thead th {\n",
              "        text-align: right;\n",
              "    }\n",
              "</style>\n",
              "<table border=\"1\" class=\"dataframe\">\n",
              "  <thead>\n",
              "    <tr style=\"text-align: right;\">\n",
              "      <th></th>\n",
              "      <th>Diabetes_012</th>\n",
              "      <th>HighBP</th>\n",
              "      <th>HighChol</th>\n",
              "      <th>CholCheck</th>\n",
              "      <th>BMI</th>\n",
              "      <th>Smoker</th>\n",
              "      <th>Stroke</th>\n",
              "      <th>HeartDiseaseorAttack</th>\n",
              "      <th>PhysActivity</th>\n",
              "      <th>Fruits</th>\n",
              "      <th>...</th>\n",
              "      <th>AnyHealthcare</th>\n",
              "      <th>NoDocbcCost</th>\n",
              "      <th>GenHlth</th>\n",
              "      <th>MentHlth</th>\n",
              "      <th>PhysHlth</th>\n",
              "      <th>DiffWalk</th>\n",
              "      <th>Sex</th>\n",
              "      <th>Age</th>\n",
              "      <th>Education</th>\n",
              "      <th>Income</th>\n",
              "    </tr>\n",
              "  </thead>\n",
              "  <tbody>\n",
              "    <tr>\n",
              "      <th>0</th>\n",
              "      <td>0.0</td>\n",
              "      <td>1.0</td>\n",
              "      <td>1.0</td>\n",
              "      <td>1.0</td>\n",
              "      <td>40.0</td>\n",
              "      <td>1.0</td>\n",
              "      <td>0.0</td>\n",
              "      <td>0.0</td>\n",
              "      <td>0.0</td>\n",
              "      <td>0.0</td>\n",
              "      <td>...</td>\n",
              "      <td>1.0</td>\n",
              "      <td>0.0</td>\n",
              "      <td>5.0</td>\n",
              "      <td>18.0</td>\n",
              "      <td>15.0</td>\n",
              "      <td>1.0</td>\n",
              "      <td>0.0</td>\n",
              "      <td>9.0</td>\n",
              "      <td>4.0</td>\n",
              "      <td>3.0</td>\n",
              "    </tr>\n",
              "    <tr>\n",
              "      <th>1</th>\n",
              "      <td>0.0</td>\n",
              "      <td>0.0</td>\n",
              "      <td>0.0</td>\n",
              "      <td>0.0</td>\n",
              "      <td>25.0</td>\n",
              "      <td>1.0</td>\n",
              "      <td>0.0</td>\n",
              "      <td>0.0</td>\n",
              "      <td>1.0</td>\n",
              "      <td>0.0</td>\n",
              "      <td>...</td>\n",
              "      <td>0.0</td>\n",
              "      <td>1.0</td>\n",
              "      <td>3.0</td>\n",
              "      <td>0.0</td>\n",
              "      <td>0.0</td>\n",
              "      <td>0.0</td>\n",
              "      <td>0.0</td>\n",
              "      <td>7.0</td>\n",
              "      <td>6.0</td>\n",
              "      <td>1.0</td>\n",
              "    </tr>\n",
              "    <tr>\n",
              "      <th>2</th>\n",
              "      <td>0.0</td>\n",
              "      <td>1.0</td>\n",
              "      <td>1.0</td>\n",
              "      <td>1.0</td>\n",
              "      <td>28.0</td>\n",
              "      <td>0.0</td>\n",
              "      <td>0.0</td>\n",
              "      <td>0.0</td>\n",
              "      <td>0.0</td>\n",
              "      <td>1.0</td>\n",
              "      <td>...</td>\n",
              "      <td>1.0</td>\n",
              "      <td>1.0</td>\n",
              "      <td>5.0</td>\n",
              "      <td>30.0</td>\n",
              "      <td>30.0</td>\n",
              "      <td>1.0</td>\n",
              "      <td>0.0</td>\n",
              "      <td>9.0</td>\n",
              "      <td>4.0</td>\n",
              "      <td>8.0</td>\n",
              "    </tr>\n",
              "    <tr>\n",
              "      <th>3</th>\n",
              "      <td>0.0</td>\n",
              "      <td>1.0</td>\n",
              "      <td>0.0</td>\n",
              "      <td>1.0</td>\n",
              "      <td>27.0</td>\n",
              "      <td>0.0</td>\n",
              "      <td>0.0</td>\n",
              "      <td>0.0</td>\n",
              "      <td>1.0</td>\n",
              "      <td>1.0</td>\n",
              "      <td>...</td>\n",
              "      <td>1.0</td>\n",
              "      <td>0.0</td>\n",
              "      <td>2.0</td>\n",
              "      <td>0.0</td>\n",
              "      <td>0.0</td>\n",
              "      <td>0.0</td>\n",
              "      <td>0.0</td>\n",
              "      <td>11.0</td>\n",
              "      <td>3.0</td>\n",
              "      <td>6.0</td>\n",
              "    </tr>\n",
              "    <tr>\n",
              "      <th>4</th>\n",
              "      <td>0.0</td>\n",
              "      <td>1.0</td>\n",
              "      <td>1.0</td>\n",
              "      <td>1.0</td>\n",
              "      <td>24.0</td>\n",
              "      <td>0.0</td>\n",
              "      <td>0.0</td>\n",
              "      <td>0.0</td>\n",
              "      <td>1.0</td>\n",
              "      <td>1.0</td>\n",
              "      <td>...</td>\n",
              "      <td>1.0</td>\n",
              "      <td>0.0</td>\n",
              "      <td>2.0</td>\n",
              "      <td>3.0</td>\n",
              "      <td>0.0</td>\n",
              "      <td>0.0</td>\n",
              "      <td>0.0</td>\n",
              "      <td>11.0</td>\n",
              "      <td>5.0</td>\n",
              "      <td>4.0</td>\n",
              "    </tr>\n",
              "    <tr>\n",
              "      <th>...</th>\n",
              "      <td>...</td>\n",
              "      <td>...</td>\n",
              "      <td>...</td>\n",
              "      <td>...</td>\n",
              "      <td>...</td>\n",
              "      <td>...</td>\n",
              "      <td>...</td>\n",
              "      <td>...</td>\n",
              "      <td>...</td>\n",
              "      <td>...</td>\n",
              "      <td>...</td>\n",
              "      <td>...</td>\n",
              "      <td>...</td>\n",
              "      <td>...</td>\n",
              "      <td>...</td>\n",
              "      <td>...</td>\n",
              "      <td>...</td>\n",
              "      <td>...</td>\n",
              "      <td>...</td>\n",
              "      <td>...</td>\n",
              "      <td>...</td>\n",
              "    </tr>\n",
              "    <tr>\n",
              "      <th>253675</th>\n",
              "      <td>0.0</td>\n",
              "      <td>1.0</td>\n",
              "      <td>1.0</td>\n",
              "      <td>1.0</td>\n",
              "      <td>45.0</td>\n",
              "      <td>0.0</td>\n",
              "      <td>0.0</td>\n",
              "      <td>0.0</td>\n",
              "      <td>0.0</td>\n",
              "      <td>1.0</td>\n",
              "      <td>...</td>\n",
              "      <td>1.0</td>\n",
              "      <td>0.0</td>\n",
              "      <td>3.0</td>\n",
              "      <td>0.0</td>\n",
              "      <td>5.0</td>\n",
              "      <td>0.0</td>\n",
              "      <td>1.0</td>\n",
              "      <td>5.0</td>\n",
              "      <td>6.0</td>\n",
              "      <td>7.0</td>\n",
              "    </tr>\n",
              "    <tr>\n",
              "      <th>253676</th>\n",
              "      <td>2.0</td>\n",
              "      <td>1.0</td>\n",
              "      <td>1.0</td>\n",
              "      <td>1.0</td>\n",
              "      <td>18.0</td>\n",
              "      <td>0.0</td>\n",
              "      <td>0.0</td>\n",
              "      <td>0.0</td>\n",
              "      <td>0.0</td>\n",
              "      <td>0.0</td>\n",
              "      <td>...</td>\n",
              "      <td>1.0</td>\n",
              "      <td>0.0</td>\n",
              "      <td>4.0</td>\n",
              "      <td>0.0</td>\n",
              "      <td>0.0</td>\n",
              "      <td>1.0</td>\n",
              "      <td>0.0</td>\n",
              "      <td>11.0</td>\n",
              "      <td>2.0</td>\n",
              "      <td>4.0</td>\n",
              "    </tr>\n",
              "    <tr>\n",
              "      <th>253677</th>\n",
              "      <td>0.0</td>\n",
              "      <td>0.0</td>\n",
              "      <td>0.0</td>\n",
              "      <td>1.0</td>\n",
              "      <td>28.0</td>\n",
              "      <td>0.0</td>\n",
              "      <td>0.0</td>\n",
              "      <td>0.0</td>\n",
              "      <td>1.0</td>\n",
              "      <td>1.0</td>\n",
              "      <td>...</td>\n",
              "      <td>1.0</td>\n",
              "      <td>0.0</td>\n",
              "      <td>1.0</td>\n",
              "      <td>0.0</td>\n",
              "      <td>0.0</td>\n",
              "      <td>0.0</td>\n",
              "      <td>0.0</td>\n",
              "      <td>2.0</td>\n",
              "      <td>5.0</td>\n",
              "      <td>2.0</td>\n",
              "    </tr>\n",
              "    <tr>\n",
              "      <th>253678</th>\n",
              "      <td>0.0</td>\n",
              "      <td>1.0</td>\n",
              "      <td>0.0</td>\n",
              "      <td>1.0</td>\n",
              "      <td>23.0</td>\n",
              "      <td>0.0</td>\n",
              "      <td>0.0</td>\n",
              "      <td>0.0</td>\n",
              "      <td>0.0</td>\n",
              "      <td>1.0</td>\n",
              "      <td>...</td>\n",
              "      <td>1.0</td>\n",
              "      <td>0.0</td>\n",
              "      <td>3.0</td>\n",
              "      <td>0.0</td>\n",
              "      <td>0.0</td>\n",
              "      <td>0.0</td>\n",
              "      <td>1.0</td>\n",
              "      <td>7.0</td>\n",
              "      <td>5.0</td>\n",
              "      <td>1.0</td>\n",
              "    </tr>\n",
              "    <tr>\n",
              "      <th>253679</th>\n",
              "      <td>2.0</td>\n",
              "      <td>1.0</td>\n",
              "      <td>1.0</td>\n",
              "      <td>1.0</td>\n",
              "      <td>25.0</td>\n",
              "      <td>0.0</td>\n",
              "      <td>0.0</td>\n",
              "      <td>1.0</td>\n",
              "      <td>1.0</td>\n",
              "      <td>1.0</td>\n",
              "      <td>...</td>\n",
              "      <td>1.0</td>\n",
              "      <td>0.0</td>\n",
              "      <td>2.0</td>\n",
              "      <td>0.0</td>\n",
              "      <td>0.0</td>\n",
              "      <td>0.0</td>\n",
              "      <td>0.0</td>\n",
              "      <td>9.0</td>\n",
              "      <td>6.0</td>\n",
              "      <td>2.0</td>\n",
              "    </tr>\n",
              "  </tbody>\n",
              "</table>\n",
              "<p>253680 rows × 22 columns</p>\n",
              "</div>"
            ],
            "text/plain": [
              "        Diabetes_012  HighBP  HighChol  CholCheck   BMI  Smoker  Stroke  \\\n",
              "0                0.0     1.0       1.0        1.0  40.0     1.0     0.0   \n",
              "1                0.0     0.0       0.0        0.0  25.0     1.0     0.0   \n",
              "2                0.0     1.0       1.0        1.0  28.0     0.0     0.0   \n",
              "3                0.0     1.0       0.0        1.0  27.0     0.0     0.0   \n",
              "4                0.0     1.0       1.0        1.0  24.0     0.0     0.0   \n",
              "...              ...     ...       ...        ...   ...     ...     ...   \n",
              "253675           0.0     1.0       1.0        1.0  45.0     0.0     0.0   \n",
              "253676           2.0     1.0       1.0        1.0  18.0     0.0     0.0   \n",
              "253677           0.0     0.0       0.0        1.0  28.0     0.0     0.0   \n",
              "253678           0.0     1.0       0.0        1.0  23.0     0.0     0.0   \n",
              "253679           2.0     1.0       1.0        1.0  25.0     0.0     0.0   \n",
              "\n",
              "        HeartDiseaseorAttack  PhysActivity  Fruits  ...  AnyHealthcare  \\\n",
              "0                        0.0           0.0     0.0  ...            1.0   \n",
              "1                        0.0           1.0     0.0  ...            0.0   \n",
              "2                        0.0           0.0     1.0  ...            1.0   \n",
              "3                        0.0           1.0     1.0  ...            1.0   \n",
              "4                        0.0           1.0     1.0  ...            1.0   \n",
              "...                      ...           ...     ...  ...            ...   \n",
              "253675                   0.0           0.0     1.0  ...            1.0   \n",
              "253676                   0.0           0.0     0.0  ...            1.0   \n",
              "253677                   0.0           1.0     1.0  ...            1.0   \n",
              "253678                   0.0           0.0     1.0  ...            1.0   \n",
              "253679                   1.0           1.0     1.0  ...            1.0   \n",
              "\n",
              "        NoDocbcCost  GenHlth  MentHlth  PhysHlth  DiffWalk  Sex   Age  \\\n",
              "0               0.0      5.0      18.0      15.0       1.0  0.0   9.0   \n",
              "1               1.0      3.0       0.0       0.0       0.0  0.0   7.0   \n",
              "2               1.0      5.0      30.0      30.0       1.0  0.0   9.0   \n",
              "3               0.0      2.0       0.0       0.0       0.0  0.0  11.0   \n",
              "4               0.0      2.0       3.0       0.0       0.0  0.0  11.0   \n",
              "...             ...      ...       ...       ...       ...  ...   ...   \n",
              "253675          0.0      3.0       0.0       5.0       0.0  1.0   5.0   \n",
              "253676          0.0      4.0       0.0       0.0       1.0  0.0  11.0   \n",
              "253677          0.0      1.0       0.0       0.0       0.0  0.0   2.0   \n",
              "253678          0.0      3.0       0.0       0.0       0.0  1.0   7.0   \n",
              "253679          0.0      2.0       0.0       0.0       0.0  0.0   9.0   \n",
              "\n",
              "        Education  Income  \n",
              "0             4.0     3.0  \n",
              "1             6.0     1.0  \n",
              "2             4.0     8.0  \n",
              "3             3.0     6.0  \n",
              "4             5.0     4.0  \n",
              "...           ...     ...  \n",
              "253675        6.0     7.0  \n",
              "253676        2.0     4.0  \n",
              "253677        5.0     2.0  \n",
              "253678        5.0     1.0  \n",
              "253679        6.0     2.0  \n",
              "\n",
              "[253680 rows x 22 columns]"
            ]
          },
          "execution_count": 3,
          "metadata": {},
          "output_type": "execute_result"
        }
      ],
      "source": [
        "# Overview of data head and tail\n",
        "df"
      ]
    },
    {
      "cell_type": "code",
      "execution_count": null,
      "id": "cdd1ecff-a5f4-4734-bbd8-bf7596795846",
      "metadata": {
        "id": "cdd1ecff-a5f4-4734-bbd8-bf7596795846",
        "outputId": "4c8e2f71-9a4c-4799-ebba-15da5160b327"
      },
      "outputs": [
        {
          "name": "stdout",
          "output_type": "stream",
          "text": [
            "<class 'pandas.core.frame.DataFrame'>\n",
            "RangeIndex: 253680 entries, 0 to 253679\n",
            "Data columns (total 22 columns):\n",
            " #   Column                Non-Null Count   Dtype  \n",
            "---  ------                --------------   -----  \n",
            " 0   Diabetes_012          253680 non-null  float64\n",
            " 1   HighBP                253680 non-null  float64\n",
            " 2   HighChol              253680 non-null  float64\n",
            " 3   CholCheck             253680 non-null  float64\n",
            " 4   BMI                   253680 non-null  float64\n",
            " 5   Smoker                253680 non-null  float64\n",
            " 6   Stroke                253680 non-null  float64\n",
            " 7   HeartDiseaseorAttack  253680 non-null  float64\n",
            " 8   PhysActivity          253680 non-null  float64\n",
            " 9   Fruits                253680 non-null  float64\n",
            " 10  Veggies               253680 non-null  float64\n",
            " 11  HvyAlcoholConsump     253680 non-null  float64\n",
            " 12  AnyHealthcare         253680 non-null  float64\n",
            " 13  NoDocbcCost           253680 non-null  float64\n",
            " 14  GenHlth               253680 non-null  float64\n",
            " 15  MentHlth              253680 non-null  float64\n",
            " 16  PhysHlth              253680 non-null  float64\n",
            " 17  DiffWalk              253680 non-null  float64\n",
            " 18  Sex                   253680 non-null  float64\n",
            " 19  Age                   253680 non-null  float64\n",
            " 20  Education             253680 non-null  float64\n",
            " 21  Income                253680 non-null  float64\n",
            "dtypes: float64(22)\n",
            "memory usage: 42.6 MB\n"
          ]
        }
      ],
      "source": [
        "# Verified the completeness of the dataset i.e. expected number of entries and non-null counts.\n",
        "df.info()"
      ]
    },
    {
      "cell_type": "code",
      "execution_count": null,
      "id": "a9f4dd60-4058-4c2d-b198-7e8ecd714638",
      "metadata": {
        "id": "a9f4dd60-4058-4c2d-b198-7e8ecd714638",
        "outputId": "915d6ece-cd33-4a13-e977-60c8c5f10c7e"
      },
      "outputs": [
        {
          "data": {
            "text/html": [
              "<div>\n",
              "<style scoped>\n",
              "    .dataframe tbody tr th:only-of-type {\n",
              "        vertical-align: middle;\n",
              "    }\n",
              "\n",
              "    .dataframe tbody tr th {\n",
              "        vertical-align: top;\n",
              "    }\n",
              "\n",
              "    .dataframe thead th {\n",
              "        text-align: right;\n",
              "    }\n",
              "</style>\n",
              "<table border=\"1\" class=\"dataframe\">\n",
              "  <thead>\n",
              "    <tr style=\"text-align: right;\">\n",
              "      <th></th>\n",
              "      <th>BMI</th>\n",
              "      <th>MentHlth</th>\n",
              "      <th>PhysHlth</th>\n",
              "    </tr>\n",
              "  </thead>\n",
              "  <tbody>\n",
              "    <tr>\n",
              "      <th>count</th>\n",
              "      <td>253680.000000</td>\n",
              "      <td>253680.000000</td>\n",
              "      <td>253680.000000</td>\n",
              "    </tr>\n",
              "    <tr>\n",
              "      <th>mean</th>\n",
              "      <td>28.382364</td>\n",
              "      <td>3.184772</td>\n",
              "      <td>4.242081</td>\n",
              "    </tr>\n",
              "    <tr>\n",
              "      <th>std</th>\n",
              "      <td>6.608694</td>\n",
              "      <td>7.412847</td>\n",
              "      <td>8.717951</td>\n",
              "    </tr>\n",
              "    <tr>\n",
              "      <th>min</th>\n",
              "      <td>12.000000</td>\n",
              "      <td>0.000000</td>\n",
              "      <td>0.000000</td>\n",
              "    </tr>\n",
              "    <tr>\n",
              "      <th>25%</th>\n",
              "      <td>24.000000</td>\n",
              "      <td>0.000000</td>\n",
              "      <td>0.000000</td>\n",
              "    </tr>\n",
              "    <tr>\n",
              "      <th>50%</th>\n",
              "      <td>27.000000</td>\n",
              "      <td>0.000000</td>\n",
              "      <td>0.000000</td>\n",
              "    </tr>\n",
              "    <tr>\n",
              "      <th>75%</th>\n",
              "      <td>31.000000</td>\n",
              "      <td>2.000000</td>\n",
              "      <td>3.000000</td>\n",
              "    </tr>\n",
              "    <tr>\n",
              "      <th>max</th>\n",
              "      <td>98.000000</td>\n",
              "      <td>30.000000</td>\n",
              "      <td>30.000000</td>\n",
              "    </tr>\n",
              "  </tbody>\n",
              "</table>\n",
              "</div>"
            ],
            "text/plain": [
              "                 BMI       MentHlth       PhysHlth\n",
              "count  253680.000000  253680.000000  253680.000000\n",
              "mean       28.382364       3.184772       4.242081\n",
              "std         6.608694       7.412847       8.717951\n",
              "min        12.000000       0.000000       0.000000\n",
              "25%        24.000000       0.000000       0.000000\n",
              "50%        27.000000       0.000000       0.000000\n",
              "75%        31.000000       2.000000       3.000000\n",
              "max        98.000000      30.000000      30.000000"
            ]
          },
          "execution_count": 5,
          "metadata": {},
          "output_type": "execute_result"
        }
      ],
      "source": [
        "# Took a closer look at the continuous feature variables\n",
        "df[['BMI', 'MentHlth', 'PhysHlth']].describe()"
      ]
    },
    {
      "cell_type": "code",
      "execution_count": null,
      "id": "6e3c8c80-5aff-427c-a82e-0b2d7dcd67da",
      "metadata": {
        "id": "6e3c8c80-5aff-427c-a82e-0b2d7dcd67da",
        "outputId": "930c618c-eb25-47e4-e08a-82e64b7a20f9"
      },
      "outputs": [
        {
          "data": {
            "text/plain": [
              "Text(0, 0.5, 'Frequency')"
            ]
          },
          "execution_count": 6,
          "metadata": {},
          "output_type": "execute_result"
        },
        {
          "data": {
            "image/png": "[encoded data removed]",
            "text/plain": [
              "<Figure size 1500x1500 with 3 Axes>"
            ]
          },
          "metadata": {},
          "output_type": "display_data"
        }
      ],
      "source": [
        "# Visualized distribution of the continuous variables\n",
        "fig = plt.figure(figsize=(15, 15))\n",
        "\n",
        "ax1 = fig.add_subplot(2, 2, 1)\n",
        "ax1.hist(df.BMI, bins=20)\n",
        "ax1.set_title('Distribution of BMI')\n",
        "ax1.set_xlabel('BMI')\n",
        "ax1.set_ylabel('Frequency')\n",
        "\n",
        "ax2 = fig.add_subplot(2, 2, 2)\n",
        "ax2.hist(df.MentHlth)\n",
        "ax2.set_title('Distribution of Mental Health Days')\n",
        "ax2.set_xlabel('Number of days')\n",
        "ax2.set_ylabel('Frequency')\n",
        "\n",
        "ax3 = fig.add_subplot(2, 2, 3)\n",
        "ax3.hist(df.PhysHlth)\n",
        "ax3.set_title('Distribution of Physical Health Days')\n",
        "ax3.set_xlabel('Number of days')\n",
        "ax3.set_ylabel('Frequency')"
      ]
    },
    {
      "cell_type": "markdown",
      "id": "ddcc4695-fe71-4094-b667-f05905188b21",
      "metadata": {
        "id": "ddcc4695-fe71-4094-b667-f05905188b21"
      },
      "source": [
        "These features did not appear to be normally distributed, with inidcations of being skewed to the right."
      ]
    },
    {
      "cell_type": "code",
      "execution_count": null,
      "id": "9cf4fa7e-052c-4c4a-a551-ee19cde7746d",
      "metadata": {
        "id": "9cf4fa7e-052c-4c4a-a551-ee19cde7746d",
        "outputId": "b9f8fe3b-79fa-4d83-a59b-e4c15d76beba"
      },
      "outputs": [
        {
          "name": "stdout",
          "output_type": "stream",
          "text": [
            "<class 'pandas.core.frame.DataFrame'>\n",
            "RangeIndex: 253680 entries, 0 to 253679\n",
            "Data columns (total 22 columns):\n",
            " #   Column                Non-Null Count   Dtype  \n",
            "---  ------                --------------   -----  \n",
            " 0   Diabetes_012          253680 non-null  int64  \n",
            " 1   HighBP                253680 non-null  int64  \n",
            " 2   HighChol              253680 non-null  int64  \n",
            " 3   CholCheck             253680 non-null  int64  \n",
            " 4   BMI                   253680 non-null  float64\n",
            " 5   Smoker                253680 non-null  int64  \n",
            " 6   Stroke                253680 non-null  int64  \n",
            " 7   HeartDiseaseorAttack  253680 non-null  int64  \n",
            " 8   PhysActivity          253680 non-null  int64  \n",
            " 9   Fruits                253680 non-null  int64  \n",
            " 10  Veggies               253680 non-null  int64  \n",
            " 11  HvyAlcoholConsump     253680 non-null  int64  \n",
            " 12  AnyHealthcare         253680 non-null  int64  \n",
            " 13  NoDocbcCost           253680 non-null  int64  \n",
            " 14  GenHlth               253680 non-null  int64  \n",
            " 15  MentHlth              253680 non-null  float64\n",
            " 16  PhysHlth              253680 non-null  float64\n",
            " 17  DiffWalk              253680 non-null  int64  \n",
            " 18  Sex                   253680 non-null  int64  \n",
            " 19  Age                   253680 non-null  int64  \n",
            " 20  Education             253680 non-null  int64  \n",
            " 21  Income                253680 non-null  int64  \n",
            "dtypes: float64(3), int64(19)\n",
            "memory usage: 42.6 MB\n"
          ]
        }
      ],
      "source": [
        "# Corrected data types as necessary\n",
        "\n",
        "df = df.astype('int')\n",
        "\n",
        "df[['BMI', 'MentHlth', 'PhysHlth']]=df[['BMI', 'MentHlth', 'PhysHlth']].astype('float')\n",
        "\n",
        "df.info()"
      ]
    },
    {
      "cell_type": "markdown",
      "id": "d008f27c-13c9-4c8f-a962-17c068b3668e",
      "metadata": {
        "id": "d008f27c-13c9-4c8f-a962-17c068b3668e"
      },
      "source": [
        "### Separation of target and feature variables"
      ]
    },
    {
      "cell_type": "code",
      "execution_count": null,
      "id": "c81cb6e1-c562-450a-8ae5-d87612191052",
      "metadata": {
        "id": "c81cb6e1-c562-450a-8ae5-d87612191052"
      },
      "outputs": [],
      "source": [
        "# Separated target and feature variables\n",
        "\n",
        "y = df.Diabetes_012   # Diabetes health status; target variable\n",
        "X = df.drop(columns='Diabetes_012', axis=1)   # feature variables\n",
        "\n",
        "features = X.columns  # list of column names for the features"
      ]
    },
    {
      "cell_type": "code",
      "execution_count": null,
      "id": "7f48f17b-4521-4466-882e-9abfcc1caee5",
      "metadata": {
        "id": "7f48f17b-4521-4466-882e-9abfcc1caee5",
        "outputId": "6751c910-8f8e-431e-8dd8-b601a39e42cb"
      },
      "outputs": [
        {
          "data": {
            "text/html": [
              "<div>\n",
              "<style scoped>\n",
              "    .dataframe tbody tr th:only-of-type {\n",
              "        vertical-align: middle;\n",
              "    }\n",
              "\n",
              "    .dataframe tbody tr th {\n",
              "        vertical-align: top;\n",
              "    }\n",
              "\n",
              "    .dataframe thead th {\n",
              "        text-align: right;\n",
              "    }\n",
              "</style>\n",
              "<table border=\"1\" class=\"dataframe\">\n",
              "  <thead>\n",
              "    <tr style=\"text-align: right;\">\n",
              "      <th></th>\n",
              "      <th>HighBP</th>\n",
              "      <th>HighChol</th>\n",
              "      <th>CholCheck</th>\n",
              "      <th>BMI</th>\n",
              "      <th>Smoker</th>\n",
              "      <th>Stroke</th>\n",
              "      <th>HeartDiseaseorAttack</th>\n",
              "      <th>PhysActivity</th>\n",
              "      <th>Fruits</th>\n",
              "      <th>Veggies</th>\n",
              "      <th>...</th>\n",
              "      <th>AnyHealthcare</th>\n",
              "      <th>NoDocbcCost</th>\n",
              "      <th>GenHlth</th>\n",
              "      <th>MentHlth</th>\n",
              "      <th>PhysHlth</th>\n",
              "      <th>DiffWalk</th>\n",
              "      <th>Sex</th>\n",
              "      <th>Age</th>\n",
              "      <th>Education</th>\n",
              "      <th>Income</th>\n",
              "    </tr>\n",
              "  </thead>\n",
              "  <tbody>\n",
              "    <tr>\n",
              "      <th>0</th>\n",
              "      <td>1</td>\n",
              "      <td>1</td>\n",
              "      <td>1</td>\n",
              "      <td>40.0</td>\n",
              "      <td>1</td>\n",
              "      <td>0</td>\n",
              "      <td>0</td>\n",
              "      <td>0</td>\n",
              "      <td>0</td>\n",
              "      <td>1</td>\n",
              "      <td>...</td>\n",
              "      <td>1</td>\n",
              "      <td>0</td>\n",
              "      <td>5</td>\n",
              "      <td>18.0</td>\n",
              "      <td>15.0</td>\n",
              "      <td>1</td>\n",
              "      <td>0</td>\n",
              "      <td>9</td>\n",
              "      <td>4</td>\n",
              "      <td>3</td>\n",
              "    </tr>\n",
              "    <tr>\n",
              "      <th>1</th>\n",
              "      <td>0</td>\n",
              "      <td>0</td>\n",
              "      <td>0</td>\n",
              "      <td>25.0</td>\n",
              "      <td>1</td>\n",
              "      <td>0</td>\n",
              "      <td>0</td>\n",
              "      <td>1</td>\n",
              "      <td>0</td>\n",
              "      <td>0</td>\n",
              "      <td>...</td>\n",
              "      <td>0</td>\n",
              "      <td>1</td>\n",
              "      <td>3</td>\n",
              "      <td>0.0</td>\n",
              "      <td>0.0</td>\n",
              "      <td>0</td>\n",
              "      <td>0</td>\n",
              "      <td>7</td>\n",
              "      <td>6</td>\n",
              "      <td>1</td>\n",
              "    </tr>\n",
              "    <tr>\n",
              "      <th>2</th>\n",
              "      <td>1</td>\n",
              "      <td>1</td>\n",
              "      <td>1</td>\n",
              "      <td>28.0</td>\n",
              "      <td>0</td>\n",
              "      <td>0</td>\n",
              "      <td>0</td>\n",
              "      <td>0</td>\n",
              "      <td>1</td>\n",
              "      <td>0</td>\n",
              "      <td>...</td>\n",
              "      <td>1</td>\n",
              "      <td>1</td>\n",
              "      <td>5</td>\n",
              "      <td>30.0</td>\n",
              "      <td>30.0</td>\n",
              "      <td>1</td>\n",
              "      <td>0</td>\n",
              "      <td>9</td>\n",
              "      <td>4</td>\n",
              "      <td>8</td>\n",
              "    </tr>\n",
              "    <tr>\n",
              "      <th>3</th>\n",
              "      <td>1</td>\n",
              "      <td>0</td>\n",
              "      <td>1</td>\n",
              "      <td>27.0</td>\n",
              "      <td>0</td>\n",
              "      <td>0</td>\n",
              "      <td>0</td>\n",
              "      <td>1</td>\n",
              "      <td>1</td>\n",
              "      <td>1</td>\n",
              "      <td>...</td>\n",
              "      <td>1</td>\n",
              "      <td>0</td>\n",
              "      <td>2</td>\n",
              "      <td>0.0</td>\n",
              "      <td>0.0</td>\n",
              "      <td>0</td>\n",
              "      <td>0</td>\n",
              "      <td>11</td>\n",
              "      <td>3</td>\n",
              "      <td>6</td>\n",
              "    </tr>\n",
              "    <tr>\n",
              "      <th>4</th>\n",
              "      <td>1</td>\n",
              "      <td>1</td>\n",
              "      <td>1</td>\n",
              "      <td>24.0</td>\n",
              "      <td>0</td>\n",
              "      <td>0</td>\n",
              "      <td>0</td>\n",
              "      <td>1</td>\n",
              "      <td>1</td>\n",
              "      <td>1</td>\n",
              "      <td>...</td>\n",
              "      <td>1</td>\n",
              "      <td>0</td>\n",
              "      <td>2</td>\n",
              "      <td>3.0</td>\n",
              "      <td>0.0</td>\n",
              "      <td>0</td>\n",
              "      <td>0</td>\n",
              "      <td>11</td>\n",
              "      <td>5</td>\n",
              "      <td>4</td>\n",
              "    </tr>\n",
              "  </tbody>\n",
              "</table>\n",
              "<p>5 rows × 21 columns</p>\n",
              "</div>"
            ],
            "text/plain": [
              "   HighBP  HighChol  CholCheck   BMI  Smoker  Stroke  HeartDiseaseorAttack  \\\n",
              "0       1         1          1  40.0       1       0                     0   \n",
              "1       0         0          0  25.0       1       0                     0   \n",
              "2       1         1          1  28.0       0       0                     0   \n",
              "3       1         0          1  27.0       0       0                     0   \n",
              "4       1         1          1  24.0       0       0                     0   \n",
              "\n",
              "   PhysActivity  Fruits  Veggies  ...  AnyHealthcare  NoDocbcCost  GenHlth  \\\n",
              "0             0       0        1  ...              1            0        5   \n",
              "1             1       0        0  ...              0            1        3   \n",
              "2             0       1        0  ...              1            1        5   \n",
              "3             1       1        1  ...              1            0        2   \n",
              "4             1       1        1  ...              1            0        2   \n",
              "\n",
              "   MentHlth  PhysHlth  DiffWalk  Sex  Age  Education  Income  \n",
              "0      18.0      15.0         1    0    9          4       3  \n",
              "1       0.0       0.0         0    0    7          6       1  \n",
              "2      30.0      30.0         1    0    9          4       8  \n",
              "3       0.0       0.0         0    0   11          3       6  \n",
              "4       3.0       0.0         0    0   11          5       4  \n",
              "\n",
              "[5 rows x 21 columns]"
            ]
          },
          "execution_count": 9,
          "metadata": {},
          "output_type": "execute_result"
        }
      ],
      "source": [
        "X.head()"
      ]
    },
    {
      "cell_type": "markdown",
      "id": "445176e5-3e12-4a8f-b708-2474543cea8d",
      "metadata": {
        "id": "445176e5-3e12-4a8f-b708-2474543cea8d"
      },
      "source": [
        "### Target Variable Distribution"
      ]
    },
    {
      "cell_type": "code",
      "execution_count": null,
      "id": "8ad68f1d-bd39-4db0-9b30-8494d32d69df",
      "metadata": {
        "id": "8ad68f1d-bd39-4db0-9b30-8494d32d69df",
        "outputId": "987e3c01-4a0e-4496-8d6f-e3ea7a68407c"
      },
      "outputs": [
        {
          "name": "stdout",
          "output_type": "stream",
          "text": [
            "Diabetes_012\n",
            "0    213703\n",
            "2     35346\n",
            "1      4631\n",
            "Name: count, dtype: int64\n"
          ]
        }
      ],
      "source": [
        "# Counts of the different diabetes health classes\n",
        "\n",
        "print(df['Diabetes_012'].value_counts())"
      ]
    },
    {
      "cell_type": "markdown",
      "id": "823a31fd-bcc7-44a7-bae3-af184f7a44ad",
      "metadata": {
        "id": "823a31fd-bcc7-44a7-bae3-af184f7a44ad"
      },
      "source": [
        "This significant imbalance in the classes for diabetes status can negatively impact the modeling process.\n",
        "This was addressed by re-sampling prior to the modeling process."
      ]
    },
    {
      "cell_type": "markdown",
      "id": "6e2f5fb0-7cdb-4674-bbea-f2d8cdce5940",
      "metadata": {
        "id": "6e2f5fb0-7cdb-4674-bbea-f2d8cdce5940"
      },
      "source": [
        "### Pairwise Comparisons: To assess relationships between target and feature variables"
      ]
    },
    {
      "cell_type": "code",
      "execution_count": null,
      "id": "fadcb6bd-0682-4fce-a0f5-94f508398b96",
      "metadata": {
        "scrolled": true,
        "id": "fadcb6bd-0682-4fce-a0f5-94f508398b96",
        "outputId": "791c47c1-91d2-4e79-c46d-f16f4e1cacf0"
      },
      "outputs": [
        {
          "name": "stdout",
          "output_type": "stream",
          "text": [
            "HighBP  Diabetes_012\n",
            "0       0               0.927788\n",
            "        2               0.060352\n",
            "        1               0.011860\n",
            "1       0               0.728776\n",
            "        2               0.244457\n",
            "        1               0.026767\n",
            "Name: proportion, dtype: float64\n",
            "HighChol  Diabetes_012\n",
            "0         0               0.908166\n",
            "          2               0.079814\n",
            "          1               0.012020\n",
            "1         0               0.753130\n",
            "          2               0.220149\n",
            "          1               0.026722\n",
            "Name: proportion, dtype: float64\n",
            "CholCheck  Diabetes_012\n",
            "0          0               0.968004\n",
            "           2               0.025449\n",
            "           1               0.006547\n",
            "1          0               0.837541\n",
            "           2               0.143749\n",
            "           1               0.018709\n",
            "Name: proportion, dtype: float64\n",
            "BMI   Diabetes_012\n",
            "12.0  0               1.000000\n",
            "13.0  0               0.857143\n",
            "      2               0.095238\n",
            "      1               0.047619\n",
            "14.0  0               0.878049\n",
            "                        ...   \n",
            "95.0  0               0.916667\n",
            "      2               0.083333\n",
            "96.0  1               1.000000\n",
            "98.0  0               0.571429\n",
            "      2               0.428571\n",
            "Name: proportion, Length: 217, dtype: float64\n",
            "Smoker  Diabetes_012\n",
            "0       0               0.862817\n",
            "        2               0.120553\n",
            "        1               0.016629\n",
            "1       0               0.816772\n",
            "        2               0.162929\n",
            "        1               0.020298\n",
            "Name: proportion, dtype: float64\n",
            "Stroke  Diabetes_012\n",
            "0       0               0.850264\n",
            "        2               0.131798\n",
            "        1               0.017938\n",
            "1       0               0.656724\n",
            "        2               0.317528\n",
            "        1               0.025748\n",
            "Name: proportion, dtype: float64\n",
            "HeartDiseaseorAttack  Diabetes_012\n",
            "0                     0               0.863199\n",
            "                      2               0.119537\n",
            "                      1               0.017264\n",
            "1                     0               0.642489\n",
            "                      2               0.329720\n",
            "                      1               0.027791\n",
            "Name: proportion, dtype: float64\n",
            "PhysActivity  Diabetes_012\n",
            "0             0               0.764443\n",
            "              2               0.211448\n",
            "              1               0.024109\n",
            "1             0               0.867502\n",
            "              2               0.116127\n",
            "              1               0.016371\n",
            "Name: proportion, dtype: float64\n",
            "Fruits  Diabetes_012\n",
            "0       0               0.822218\n",
            "        2               0.157929\n",
            "        1               0.019853\n",
            "1       0               0.854057\n",
            "        2               0.128609\n",
            "        1               0.017334\n",
            "Name: proportion, dtype: float64\n",
            "Veggies  Diabetes_012\n",
            "0        0               0.797655\n",
            "         2               0.179979\n",
            "         1               0.022367\n",
            "1        0               0.852814\n",
            "         2               0.129887\n",
            "         1               0.017300\n",
            "Name: proportion, dtype: float64\n",
            "HvyAlcoholConsump  Diabetes_012\n",
            "0                  0               0.837372\n",
            "                   2               0.144154\n",
            "                   1               0.018474\n",
            "1                  0               0.927048\n",
            "                   2               0.058361\n",
            "                   1               0.014590\n",
            "Name: proportion, dtype: float64\n",
            "AnyHealthcare  Diabetes_012\n",
            "0              0               0.865024\n",
            "               2               0.114520\n",
            "               1               0.020456\n",
            "1              0               0.841248\n",
            "               2               0.140610\n",
            "               1               0.018142\n",
            "Name: proportion, dtype: float64\n",
            "NoDocbcCost  Diabetes_012\n",
            "0            0               0.846612\n",
            "             2               0.136033\n",
            "             1               0.017355\n",
            "1            0               0.796713\n",
            "             2               0.175236\n",
            "             1               0.028051\n",
            "Name: proportion, dtype: float64\n",
            "GenHlth  Diabetes_012\n",
            "1        0               0.967924\n",
            "         2               0.025166\n",
            "         1               0.006910\n",
            "2        0               0.914743\n",
            "         2               0.071629\n",
            "         1               0.013628\n",
            "3        0               0.799262\n",
            "         2               0.177894\n",
            "         1               0.022843\n",
            "4        0               0.657428\n",
            "         2               0.310105\n",
            "         1               0.032468\n",
            "5        0               0.592004\n",
            "         2               0.378942\n",
            "         1               0.029054\n",
            "Name: proportion, dtype: float64\n",
            "MentHlth  Diabetes_012\n",
            "0.0       0               0.849960\n",
            "          2               0.133214\n",
            "          1               0.016826\n",
            "1.0       0               0.890841\n",
            "          2               0.095104\n",
            "                            ...   \n",
            "29.0      2               0.189873\n",
            "          1               0.018987\n",
            "30.0      0               0.741148\n",
            "          2               0.228987\n",
            "          1               0.029864\n",
            "Name: proportion, Length: 91, dtype: float64\n",
            "PhysHlth  Diabetes_012\n",
            "0.0       0               0.879970\n",
            "          2               0.104591\n",
            "          1               0.015439\n",
            "1.0       0               0.880400\n",
            "          2               0.104320\n",
            "                            ...   \n",
            "29.0      2               0.344186\n",
            "          1               0.032558\n",
            "30.0      0               0.676082\n",
            "          2               0.295155\n",
            "          1               0.028763\n",
            "Name: proportion, Length: 93, dtype: float64\n",
            "DiffWalk  Diabetes_012\n",
            "0         0               0.878813\n",
            "          2               0.105329\n",
            "          1               0.015857\n",
            "1         0               0.662425\n",
            "          2               0.307463\n",
            "          1               0.030111\n",
            "Name: proportion, dtype: float64\n",
            "Sex  Diabetes_012\n",
            "0    0               0.851980\n",
            "     2               0.129679\n",
            "     1               0.018341\n",
            "1    0               0.830251\n",
            "     2               0.151603\n",
            "     1               0.018146\n",
            "Name: proportion, dtype: float64\n",
            "Age  Diabetes_012\n",
            "1    0               0.982632\n",
            "     2               0.013684\n",
            "     1               0.003684\n",
            "2    0               0.974467\n",
            "     2               0.018426\n",
            "     1               0.007107\n",
            "3    0               0.965297\n",
            "     2               0.028230\n",
            "     1               0.006473\n",
            "4    0               0.944440\n",
            "     2               0.045287\n",
            "     1               0.010273\n",
            "5    0               0.924862\n",
            "     2               0.065049\n",
            "     1               0.010089\n",
            "6    0               0.896362\n",
            "     2               0.087895\n",
            "     1               0.015742\n",
            "7    0               0.866763\n",
            "     2               0.117352\n",
            "     1               0.015885\n",
            "8    0               0.843896\n",
            "     2               0.138265\n",
            "     1               0.017839\n",
            "9    0               0.806431\n",
            "     2               0.172452\n",
            "     1               0.021117\n",
            "10   0               0.774647\n",
            "     2               0.203703\n",
            "     1               0.021650\n",
            "11   0               0.755960\n",
            "     2               0.218459\n",
            "     1               0.025581\n",
            "12   0               0.759199\n",
            "     2               0.212954\n",
            "     1               0.027847\n",
            "13   0               0.789092\n",
            "     2               0.184818\n",
            "     1               0.026090\n",
            "Name: proportion, dtype: float64\n",
            "Education  Diabetes_012\n",
            "1          0               0.718391\n",
            "           2               0.270115\n",
            "           1               0.011494\n",
            "2          0               0.667574\n",
            "           2               0.292605\n",
            "           1               0.039822\n",
            "3          0               0.724625\n",
            "           2               0.242245\n",
            "           1               0.033129\n",
            "4          0               0.802135\n",
            "           2               0.176351\n",
            "           1               0.021514\n",
            "5          0               0.832828\n",
            "           2               0.148105\n",
            "           1               0.019067\n",
            "6          0               0.889392\n",
            "           2               0.096902\n",
            "           1               0.013706\n",
            "Name: proportion, dtype: float64\n",
            "Income  Diabetes_012\n",
            "1       0               0.725104\n",
            "        2               0.242891\n",
            "        1               0.032005\n",
            "2       0               0.707884\n",
            "        2               0.261903\n",
            "        1               0.030213\n",
            "3       0               0.750594\n",
            "        2               0.223084\n",
            "        1               0.026322\n",
            "4       0               0.775863\n",
            "        2               0.201341\n",
            "        1               0.022796\n",
            "5       0               0.803307\n",
            "        2               0.174014\n",
            "        1               0.022679\n",
            "6       0               0.834412\n",
            "        2               0.145078\n",
            "        1               0.020510\n",
            "7       0               0.861172\n",
            "        2               0.121821\n",
            "        1               0.017006\n",
            "8       0               0.909211\n",
            "        2               0.079604\n",
            "        1               0.011185\n",
            "Name: proportion, dtype: float64\n"
          ]
        }
      ],
      "source": [
        "for column in X.columns:\n",
        "    print(df.groupby(column)['Diabetes_012'].value_counts(normalize=True)) # normalize=True returns the value_counts as proportions"
      ]
    },
    {
      "cell_type": "markdown",
      "id": "3bce1ed6-680b-42b1-a82f-e13c0197b781",
      "metadata": {
        "id": "3bce1ed6-680b-42b1-a82f-e13c0197b781"
      },
      "source": [
        "The following presented minimal differences in proportions between diabetes diagnosis classes, suggesting that they may not be good predictors of diabetes diagnosis:\n",
        "- smoker\n",
        "- PhysActivity\n",
        "- Fruits\n",
        "- Veggies\n",
        "- HvyAlcoholConsump\n",
        "- AnyHealthCare\n",
        "- NoDocbcCost\n",
        "- Sex\n",
        "\n",
        "The important indicator was how the proportions changed from one feature class to the next. For example, diabetics increased from 6% (no High BP class) to 24% (High BP class). This indicated that the High BP status may be a good predictor of diabetes status."
      ]
    },
    {
      "cell_type": "markdown",
      "id": "40f0ab5d-15eb-42b9-a5c9-4a5a1be2492b",
      "metadata": {
        "id": "40f0ab5d-15eb-42b9-a5c9-4a5a1be2492b"
      },
      "source": [
        "### Chi-Square Test of Independence: Further assessment of relationships between target and feature variables"
      ]
    },
    {
      "cell_type": "code",
      "execution_count": null,
      "id": "9f8eb99d-127f-492d-9f46-07b429a8736f",
      "metadata": {
        "scrolled": true,
        "id": "9f8eb99d-127f-492d-9f46-07b429a8736f",
        "outputId": "6fe7a50f-f6ae-4b00-f2ae-2b9ebe5224db"
      },
      "outputs": [
        {
          "data": {
            "text/html": [
              "<div>\n",
              "<style scoped>\n",
              "    .dataframe tbody tr th:only-of-type {\n",
              "        vertical-align: middle;\n",
              "    }\n",
              "\n",
              "    .dataframe tbody tr th {\n",
              "        vertical-align: top;\n",
              "    }\n",
              "\n",
              "    .dataframe thead th {\n",
              "        text-align: right;\n",
              "    }\n",
              "</style>\n",
              "<table border=\"1\" class=\"dataframe\">\n",
              "  <thead>\n",
              "    <tr style=\"text-align: right;\">\n",
              "      <th></th>\n",
              "      <th>Feature</th>\n",
              "      <th>Chi2</th>\n",
              "      <th>p-value</th>\n",
              "    </tr>\n",
              "  </thead>\n",
              "  <tbody>\n",
              "    <tr>\n",
              "      <th>13</th>\n",
              "      <td>GenHlth</td>\n",
              "      <td>24248.106147</td>\n",
              "      <td>0.000000e+00</td>\n",
              "    </tr>\n",
              "    <tr>\n",
              "      <th>0</th>\n",
              "      <td>HighBP</td>\n",
              "      <td>18794.644052</td>\n",
              "      <td>0.000000e+00</td>\n",
              "    </tr>\n",
              "    <tr>\n",
              "      <th>3</th>\n",
              "      <td>BMI</td>\n",
              "      <td>16040.937240</td>\n",
              "      <td>0.000000e+00</td>\n",
              "    </tr>\n",
              "    <tr>\n",
              "      <th>16</th>\n",
              "      <td>DiffWalk</td>\n",
              "      <td>12776.941889</td>\n",
              "      <td>0.000000e+00</td>\n",
              "    </tr>\n",
              "    <tr>\n",
              "      <th>1</th>\n",
              "      <td>HighChol</td>\n",
              "      <td>11258.920399</td>\n",
              "      <td>0.000000e+00</td>\n",
              "    </tr>\n",
              "    <tr>\n",
              "      <th>18</th>\n",
              "      <td>Age</td>\n",
              "      <td>9641.376531</td>\n",
              "      <td>0.000000e+00</td>\n",
              "    </tr>\n",
              "    <tr>\n",
              "      <th>15</th>\n",
              "      <td>PhysHlth</td>\n",
              "      <td>8669.662295</td>\n",
              "      <td>0.000000e+00</td>\n",
              "    </tr>\n",
              "    <tr>\n",
              "      <th>6</th>\n",
              "      <td>HeartDiseaseorAttack</td>\n",
              "      <td>8244.889107</td>\n",
              "      <td>0.000000e+00</td>\n",
              "    </tr>\n",
              "    <tr>\n",
              "      <th>20</th>\n",
              "      <td>Income</td>\n",
              "      <td>7816.462906</td>\n",
              "      <td>0.000000e+00</td>\n",
              "    </tr>\n",
              "    <tr>\n",
              "      <th>19</th>\n",
              "      <td>Education</td>\n",
              "      <td>4560.640279</td>\n",
              "      <td>0.000000e+00</td>\n",
              "    </tr>\n",
              "    <tr>\n",
              "      <th>7</th>\n",
              "      <td>PhysActivity</td>\n",
              "      <td>3789.301463</td>\n",
              "      <td>0.000000e+00</td>\n",
              "    </tr>\n",
              "    <tr>\n",
              "      <th>5</th>\n",
              "      <td>Stroke</td>\n",
              "      <td>2916.751980</td>\n",
              "      <td>0.000000e+00</td>\n",
              "    </tr>\n",
              "    <tr>\n",
              "      <th>14</th>\n",
              "      <td>MentHlth</td>\n",
              "      <td>1728.065129</td>\n",
              "      <td>0.000000e+00</td>\n",
              "    </tr>\n",
              "    <tr>\n",
              "      <th>2</th>\n",
              "      <td>CholCheck</td>\n",
              "      <td>1173.749358</td>\n",
              "      <td>1.329124e-255</td>\n",
              "    </tr>\n",
              "    <tr>\n",
              "      <th>4</th>\n",
              "      <td>Smoker</td>\n",
              "      <td>1010.511751</td>\n",
              "      <td>3.716732e-220</td>\n",
              "    </tr>\n",
              "    <tr>\n",
              "      <th>9</th>\n",
              "      <td>Veggies</td>\n",
              "      <td>893.841905</td>\n",
              "      <td>8.029646e-195</td>\n",
              "    </tr>\n",
              "    <tr>\n",
              "      <th>10</th>\n",
              "      <td>HvyAlcoholConsump</td>\n",
              "      <td>850.324048</td>\n",
              "      <td>2.261930e-185</td>\n",
              "    </tr>\n",
              "    <tr>\n",
              "      <th>8</th>\n",
              "      <td>Fruits</td>\n",
              "      <td>454.347059</td>\n",
              "      <td>2.186703e-99</td>\n",
              "    </tr>\n",
              "    <tr>\n",
              "      <th>12</th>\n",
              "      <td>NoDocbcCost</td>\n",
              "      <td>396.081822</td>\n",
              "      <td>9.815790e-87</td>\n",
              "    </tr>\n",
              "    <tr>\n",
              "      <th>17</th>\n",
              "      <td>Sex</td>\n",
              "      <td>250.850575</td>\n",
              "      <td>3.376679e-55</td>\n",
              "    </tr>\n",
              "    <tr>\n",
              "      <th>11</th>\n",
              "      <td>AnyHealthcare</td>\n",
              "      <td>69.077977</td>\n",
              "      <td>9.997881e-16</td>\n",
              "    </tr>\n",
              "  </tbody>\n",
              "</table>\n",
              "</div>"
            ],
            "text/plain": [
              "                 Feature          Chi2        p-value\n",
              "13               GenHlth  24248.106147   0.000000e+00\n",
              "0                 HighBP  18794.644052   0.000000e+00\n",
              "3                    BMI  16040.937240   0.000000e+00\n",
              "16              DiffWalk  12776.941889   0.000000e+00\n",
              "1               HighChol  11258.920399   0.000000e+00\n",
              "18                   Age   9641.376531   0.000000e+00\n",
              "15              PhysHlth   8669.662295   0.000000e+00\n",
              "6   HeartDiseaseorAttack   8244.889107   0.000000e+00\n",
              "20                Income   7816.462906   0.000000e+00\n",
              "19             Education   4560.640279   0.000000e+00\n",
              "7           PhysActivity   3789.301463   0.000000e+00\n",
              "5                 Stroke   2916.751980   0.000000e+00\n",
              "14              MentHlth   1728.065129   0.000000e+00\n",
              "2              CholCheck   1173.749358  1.329124e-255\n",
              "4                 Smoker   1010.511751  3.716732e-220\n",
              "9                Veggies    893.841905  8.029646e-195\n",
              "10     HvyAlcoholConsump    850.324048  2.261930e-185\n",
              "8                 Fruits    454.347059   2.186703e-99\n",
              "12           NoDocbcCost    396.081822   9.815790e-87\n",
              "17                   Sex    250.850575   3.376679e-55\n",
              "11         AnyHealthcare     69.077977   9.997881e-16"
            ]
          },
          "execution_count": 12,
          "metadata": {},
          "output_type": "execute_result"
        }
      ],
      "source": [
        "from scipy.stats import chi2_contingency\n",
        "\n",
        "# List to store results\n",
        "chi2_results = []\n",
        "\n",
        "# Loop through each feature\n",
        "for column in X.columns:\n",
        "    # Create a contingency table using pd.crosstab\n",
        "    contingency_table = pd.crosstab(X[column], df['Diabetes_012'])\n",
        "    # Perform the chi-squared test using the chi2_contingency function\n",
        "    chi2, p, dof, expected = chi2_contingency(contingency_table)\n",
        "    # Append results to the list\n",
        "    chi2_results.append({\n",
        "    'Feature':column,\n",
        "    'Chi2':chi2,\n",
        "    'p-value':p\n",
        "    })\n",
        "\n",
        "# Convert the list to a DataFrame\n",
        "chi2_results = pd.DataFrame(chi2_results)\n",
        "\n",
        "# Display the DataFrame\n",
        "chi2_results.sort_values(by=['Chi2', 'p-value'], ascending=False)"
      ]
    },
    {
      "cell_type": "markdown",
      "id": "4f9118a5-1135-4e30-989e-913aee71d633",
      "metadata": {
        "id": "4f9118a5-1135-4e30-989e-913aee71d633"
      },
      "source": [
        "The Chi2 statistic measures how the observed frequencies in each category differ from the expected frequencies, if the features were independent of the target variable.\n",
        "- A higher value of the Chi2 statistic indicates a stronger association between the feature and the target variable.\n",
        "\n",
        "The p-value indicates the probability that the observed association is due to chance.\n",
        "A small p-value (typically < 0.05) indicates that the observed association is statistically significant.\n",
        "- All features had extremely small p-values, indicating that the associations between these features and diabetes diagnosis are highly unlikely to be due to chance.\n",
        "- However, features with higher Chi2 values (e.g., GenHlth, HighBP) had stronger associations with diabetes diagnosis compared to those with lower Chi2 values (e.g., AnyHealthcare, Sex).\n",
        "\n",
        "These findings aligned with the observations from the pairwise comparison i.e. similar features are indicated to be weaker predictors of diabetes diagnosis."
      ]
    },
    {
      "cell_type": "markdown",
      "id": "d6b76022-ae55-4fb3-b01e-44f390d4ca1d",
      "metadata": {
        "id": "d6b76022-ae55-4fb3-b01e-44f390d4ca1d"
      },
      "source": [
        "### Mosaic Plots (for select categorical feature variables and the target variable)"
      ]
    },
    {
      "cell_type": "code",
      "execution_count": null,
      "id": "9dd00198-cd26-41c8-a675-5fbf40f3cc95",
      "metadata": {
        "id": "9dd00198-cd26-41c8-a675-5fbf40f3cc95",
        "outputId": "66287e99-d92d-4008-fc33-c5eab68ab7ad"
      },
      "outputs": [
        {
          "data": {
            "text/plain": [
              "<Figure size 1200x600 with 0 Axes>"
            ]
          },
          "metadata": {},
          "output_type": "display_data"
        },
        {
          "data": {
            "image/png": "[encoded data removed]",
            "text/plain": [
              "<Figure size 640x480 with 3 Axes>"
            ]
          },
          "metadata": {},
          "output_type": "display_data"
        }
      ],
      "source": [
        "!pip3 install statsmodels\n",
        "\n",
        "from statsmodels.graphics.mosaicplot import mosaic\n",
        "\n",
        "plt.figure(figsize=(12, 6))\n",
        "mosaic(df, ['HighBP', 'Diabetes_012'])\n",
        "plt.xlabel('Blood Pressure Status')\n",
        "plt.show()\n"
      ]
    },
    {
      "cell_type": "markdown",
      "id": "530af9ba-f3ca-4612-9b09-0b64dc87be86",
      "metadata": {
        "id": "530af9ba-f3ca-4612-9b09-0b64dc87be86"
      },
      "source": [
        "**Mosaic plots essentially visualize the observations from a pairwise comparison.**\n",
        "\n",
        "With diabetes diagnosis as the veritcal or y-axis, there was shown to be a significant difference in the height (and area) of the diabetic segment (1,2) as you move from \"high BP\" on the left to \"no high BP\" on the right (0,2).\n",
        "\n",
        "This supported the conclusion that this feature is potenitally a good predictor of diabetes diagnosis."
      ]
    },
    {
      "cell_type": "code",
      "execution_count": null,
      "id": "4b02e047-f9fe-4733-9cb1-8da47e020216",
      "metadata": {
        "id": "4b02e047-f9fe-4733-9cb1-8da47e020216",
        "outputId": "6fa3e7ab-78c8-41a1-9d3e-2c7cba148229"
      },
      "outputs": [
        {
          "data": {
            "text/plain": [
              "<Figure size 1200x600 with 0 Axes>"
            ]
          },
          "metadata": {},
          "output_type": "display_data"
        },
        {
          "data": {
            "image/png": "[encoded data removed]",
            "text/plain": [
              "<Figure size 640x480 with 3 Axes>"
            ]
          },
          "metadata": {},
          "output_type": "display_data"
        }
      ],
      "source": [
        "plt.figure(figsize=(12, 6))\n",
        "mosaic(df, ['AnyHealthcare', 'Diabetes_012'])\n",
        "plt.xlabel('Any Healthcare Coverage')\n",
        "plt.show()\n"
      ]
    },
    {
      "cell_type": "markdown",
      "id": "4983d7e8-1e9a-4b57-899b-e1b1ed8eefdf",
      "metadata": {
        "id": "4983d7e8-1e9a-4b57-899b-e1b1ed8eefdf"
      },
      "source": [
        "The feature variable \"AnyHealthcare\" was identified, during pairwise comparison, as one of the weaker predictors of diabetes diagnosis.\n",
        "\n",
        "No significant differences (in height) were observed between the \"health coverage\" group (1) on the left and the \"no health coverage\" group (0) on the right, across diabetes diagnosis classes. This supported this feature potentially being a weaker predictor of diabetes diagnosis."
      ]
    },
    {
      "cell_type": "markdown",
      "id": "ffac45e9-fab0-447b-a02a-7e49ddc13c68",
      "metadata": {
        "id": "ffac45e9-fab0-447b-a02a-7e49ddc13c68"
      },
      "source": [
        "### Collinearity Assessment (of the relationships between feature variables)\n",
        "#### - Correlation Matrix Visualized With a Heatmap\n",
        "\n",
        "Correlation between the feature variables was assessed via the creation of a correlation matirx which was then visualized with a heat map. This allowed for the determination of the extent of correlation, if any, by the size of the correlation coefficient and the color intensity of each square in the map."
      ]
    },
    {
      "cell_type": "code",
      "execution_count": null,
      "id": "c817735d-4f01-42aa-8216-10abfe9ccef8",
      "metadata": {
        "id": "c817735d-4f01-42aa-8216-10abfe9ccef8",
        "outputId": "5d9bf9f4-2206-41d5-bb33-ba0b777d2b29"
      },
      "outputs": [
        {
          "data": {
            "text/plain": [
              "<Axes: >"
            ]
          },
          "execution_count": 15,
          "metadata": {},
          "output_type": "execute_result"
        },
        {
          "data": {
            "image/png": "[encoded data removed]",
            "text/plain": [
              "<Figure size 1400x1400 with 2 Axes>"
            ]
          },
          "metadata": {},
          "output_type": "display_data"
        }
      ],
      "source": [
        "# Creation of correlation matrix\n",
        "correlation_matrix = X.corr()\n",
        "\n",
        "# Creation of a heatmap\n",
        "f,ax = plt.subplots(figsize=(14, 14))\n",
        "sns.heatmap(correlation_matrix, annot=True, linewidths=.5, fmt='.1f', ax=ax)"
      ]
    },
    {
      "cell_type": "markdown",
      "id": "8098184b-1163-4922-8788-1b6b72987432",
      "metadata": {
        "id": "8098184b-1163-4922-8788-1b6b72987432"
      },
      "source": [
        "Little or no collinearity was observed between the feature variables. The highest correlation coefficient observed was 0.5, between \"general health\" (GenGlth) and \"physical health\" (PhysHlth) as well as with \"difficulty walking\" (DiffWalk).\n",
        "\n",
        "The absence of collinearity supported the use of a logistic model, as a starting point in the subsequent modeling exercise.\n",
        "\n",
        "Collinearity refers to a situation in which two or more predictor variables in a regression model are highly correlated, meaning they have a strong linear relationship. High collinearity can cause problems in regression models, inclduing difficulty in determining the individual effect of each predictor."
      ]
    },
    {
      "cell_type": "markdown",
      "id": "3c2c6ff8-862a-4ab0-823f-bacc9968f4ae",
      "metadata": {
        "id": "3c2c6ff8-862a-4ab0-823f-bacc9968f4ae"
      },
      "source": [
        "## RE-SAMPLING TO ADDRESS CLASS IMBALANCE\n",
        "\n",
        "Original count: class 0 (not diabetic) = 213703, class 1 (pre-diabetic) = 4631, class 2 (diabetic) = 35346\n",
        "\n",
        "Two approaches were considered:\n",
        "\n",
        "**A.** Random undersampling of the two majority classes (not diabetic and diabetic) to class 1 level (count of 4631), while maintaining the three classes.\n",
        "\n",
        "**B.** Transformation of the data to two classes i.e. combination of \"diabetic\" and \"pre-diabetic classes into class 1 (non-diabetic remaining as class 0) followed by random undersampling of the majority class (0) to the count level of the new minority class (1) i.e. 39977. Class 0 would represent an absence of the disease, while class 1 would indicate illness or risk of illness. (This was presented as a recommended approach in the documentation provided with the dataset, to aid model optimization.)\n",
        "\n",
        "Random undersampling was chosen because:\n",
        "- the orginal non-diabetic class was very large (>210,000) which facilitates true random sampling;\n",
        "- a smaller sample (79,000+) size can lead to faster training times and less computational burden;\n",
        "- it avoids overfitting which can occur if oversampling introduces duplicates;\n",
        "- avoids the introduction of noise from the generation of synthetic samples.\n",
        "\n",
        "The two re-sampled datasets were then made available for the feature and model selection exercises.\n"
      ]
    },
    {
      "cell_type": "markdown",
      "id": "069b1c2c-d77c-41bc-a4a7-36915aff7bf0",
      "metadata": {
        "id": "069b1c2c-d77c-41bc-a4a7-36915aff7bf0"
      },
      "source": [
        "### Random Undersampling using RandomUnderSampler - A"
      ]
    },
    {
      "cell_type": "code",
      "execution_count": null,
      "id": "0f143f0b-0298-496a-ac6a-7618ca27ea54",
      "metadata": {
        "id": "0f143f0b-0298-496a-ac6a-7618ca27ea54",
        "outputId": "81293ecc-4bf8-49b6-e25b-8255f59465cd"
      },
      "outputs": [
        {
          "name": "stdout",
          "output_type": "stream",
          "text": [
            "Original class distribution: Counter({0: 213703, 2: 35346, 1: 4631})\n",
            "Resampled class distribution: Counter({0: 4631, 1: 4631, 2: 4631})\n",
            "Resampled total size: 13893\n"
          ]
        }
      ],
      "source": [
        "from imblearn.under_sampling import RandomUnderSampler\n",
        "from collections import Counter\n",
        "\n",
        "print(f\"Original class distribution: {Counter(y)}\")\n",
        "\n",
        "# Initialize the undersampler\n",
        "rus = RandomUnderSampler(sampling_strategy='auto', random_state=42)\n",
        "\n",
        "# Fit and resample the data\n",
        "X_resampled, y_resampled = rus.fit_resample(X, y)\n",
        "\n",
        "print(f\"Resampled class distribution: {Counter(y_resampled)}\")\n",
        "print(f\"Resampled total size: {pd.DataFrame(y_resampled).shape[0]}\")"
      ]
    },
    {
      "cell_type": "markdown",
      "id": "ef09a543-793a-4ebc-899e-4f26bdada0b2",
      "metadata": {
        "id": "ef09a543-793a-4ebc-899e-4f26bdada0b2"
      },
      "source": [
        "The aim was to reduce the majority class by randomly underdampling it down to 4631 entries, the same as the inital amount of class 1 (pre-diabetic). Imbalance can negatively affect the performance of predictive models."
      ]
    },
    {
      "cell_type": "markdown",
      "id": "4cd3209f-8ef8-4ed3-8e3a-e2e6dffdd1dc",
      "metadata": {
        "id": "4cd3209f-8ef8-4ed3-8e3a-e2e6dffdd1dc"
      },
      "source": [
        "### Random Undersampling using RandomUnderSampler - B"
      ]
    },
    {
      "cell_type": "code",
      "execution_count": null,
      "id": "0a8821dc-ed4b-4c32-8711-c10a6a242a59",
      "metadata": {
        "id": "0a8821dc-ed4b-4c32-8711-c10a6a242a59",
        "outputId": "173d89f9-38d7-4fd5-94f0-bce611c6fda8"
      },
      "outputs": [
        {
          "data": {
            "text/plain": [
              "array([0, 1])"
            ]
          },
          "execution_count": 17,
          "metadata": {},
          "output_type": "execute_result"
        }
      ],
      "source": [
        "# Combined diabetics with pre-diabetics (assigned all to class 1); Non-diabetics remained as class 0\n",
        "\n",
        "df1 = df.copy()\n",
        "\n",
        "df1['Diabetes_012'] = df1['Diabetes_012'].replace({2:1})\n",
        "\n",
        "df1['Diabetes_012'].unique()"
      ]
    },
    {
      "cell_type": "code",
      "execution_count": null,
      "id": "a6e77b59-8470-4e45-bd4d-95bf5992a8c9",
      "metadata": {
        "id": "a6e77b59-8470-4e45-bd4d-95bf5992a8c9",
        "outputId": "55f5b867-c524-4daf-e8d1-2183bd657072"
      },
      "outputs": [
        {
          "data": {
            "text/plain": [
              "Diabetes_012\n",
              "0    213703\n",
              "1     39977\n",
              "Name: count, dtype: int64"
            ]
          },
          "execution_count": 18,
          "metadata": {},
          "output_type": "execute_result"
        }
      ],
      "source": [
        "# Confirmed re-distribution of the target variable\n",
        "\n",
        "df1['Diabetes_012'].value_counts()"
      ]
    },
    {
      "cell_type": "code",
      "execution_count": null,
      "id": "a7313e2b-ff46-4379-94af-45b969d79673",
      "metadata": {
        "id": "a7313e2b-ff46-4379-94af-45b969d79673"
      },
      "outputs": [],
      "source": [
        "# Redefined the target and feature datasets\n",
        "\n",
        "y2 = df1['Diabetes_012']\n",
        "X2 = df1.drop('Diabetes_012', axis=1)"
      ]
    },
    {
      "cell_type": "code",
      "execution_count": null,
      "id": "a8941216-22e8-44d5-b0c1-7bc3d20dc122",
      "metadata": {
        "id": "a8941216-22e8-44d5-b0c1-7bc3d20dc122",
        "outputId": "13e463ca-c28c-4cb7-c78b-05175682fbdc"
      },
      "outputs": [
        {
          "name": "stdout",
          "output_type": "stream",
          "text": [
            "Original class distribution: Counter({0: 213703, 1: 39977})\n",
            "Resampled class distribution: Counter({0: 39977, 1: 39977})\n",
            "Resampled total size: 79954\n"
          ]
        }
      ],
      "source": [
        "# Undersampled the majority class to correct the class imbalance observed\n",
        "\n",
        "print(f\"Original class distribution: {Counter(y2)}\")\n",
        "\n",
        "# Initialize the undersampler\n",
        "rus1 = RandomUnderSampler(sampling_strategy='auto', random_state=42)\n",
        "\n",
        "# Fit and resample the data\n",
        "X_resampled2, y_resampled2 = rus1.fit_resample(X2, y2)\n",
        "\n",
        "print(f\"Resampled class distribution: {Counter(y_resampled2)}\")\n",
        "print(f\"Resampled total size: {pd.DataFrame(y_resampled2).shape[0]}\")"
      ]
    },
    {
      "cell_type": "markdown",
      "id": "81574439-36b2-472c-bc8b-f3c53640c5da",
      "metadata": {
        "id": "81574439-36b2-472c-bc8b-f3c53640c5da"
      },
      "source": [
        "The majority class was undersampled (randomly) in an attempt to correct the class imbalance observed in the original dataset prior to attempting to carryout feature selection and model optimization."
      ]
    },
    {
      "cell_type": "markdown",
      "id": "945ac2b3-e76d-44f6-98c0-0ebbe5f6c7fa",
      "metadata": {
        "id": "945ac2b3-e76d-44f6-98c0-0ebbe5f6c7fa"
      },
      "source": [
        "## EVALUATION OF THE NEED FOR SCALING OF THE CONTINUOUS VARIABLES IN THE DATASET\n",
        "The continuous variables present were evaluated to determine the need for and impact of scaling on the model performance. Consideration was given to:\n",
        "- the visual distribution of the related data\n",
        "- the limitations of the models being considered and\n",
        "- the performance of the selected model with and without scaling."
      ]
    },
    {
      "cell_type": "code",
      "execution_count": null,
      "id": "6077b148-f6a7-4aca-a2e0-1e83bd178736",
      "metadata": {
        "id": "6077b148-f6a7-4aca-a2e0-1e83bd178736"
      },
      "outputs": [],
      "source": [
        "# Required libraries\n",
        "\n",
        "from sklearn.preprocessing import StandardScaler  # For standardization (mean of 0, std of 1); which is preferred over normalisation when\n",
        "                                                # using logistic models\n",
        "from sklearn.preprocessing import Normalizer #\n",
        "from sklearn.preprocessing import MinMaxScaler # scale features to a specific range, typically [0, 1]; useful for data doesn't have a\n",
        "                                                # normal distribution but you still want to bring features to a uniform range.\n",
        "from sklearn.preprocessing import RobustScaler # used if your data contains many outliers; scales features using statistics that are\n",
        "                                                # robust to outliers (i.e., median and interquartile range)\n",
        "from sklearn.model_selection import train_test_split   # For splitting the data"
      ]
    },
    {
      "cell_type": "code",
      "execution_count": null,
      "id": "9ca0dabd-0793-4715-863d-d8a9f70c2ebd",
      "metadata": {
        "id": "9ca0dabd-0793-4715-863d-d8a9f70c2ebd"
      },
      "outputs": [],
      "source": [
        "# The data was split into training and testing sets\n",
        "\n",
        "X_train, X_test, y_train, y_test = train_test_split(X_resampled, y_resampled, test_size=0.2, random_state=42)"
      ]
    },
    {
      "cell_type": "markdown",
      "id": "e61a00d3-69a2-4453-8692-b1e480d463cf",
      "metadata": {
        "id": "e61a00d3-69a2-4453-8692-b1e480d463cf"
      },
      "source": [
        "**To assess the need for and impact of scaling, the simplest classificatin model was utilized: multinomial logistic regression.**"
      ]
    },
    {
      "cell_type": "markdown",
      "id": "3e172e57-fbe3-4534-9b37-18fe43d451d1",
      "metadata": {
        "id": "3e172e57-fbe3-4534-9b37-18fe43d451d1"
      },
      "source": [
        "### No scaling of the continuous variables"
      ]
    },
    {
      "cell_type": "code",
      "execution_count": null,
      "id": "e3102c35-abd0-4dff-97b3-c983a06e75eb",
      "metadata": {
        "id": "e3102c35-abd0-4dff-97b3-c983a06e75eb"
      },
      "outputs": [],
      "source": [
        "# # 1-Created an instance of the logistic regression model\n",
        "# logmodel = LogisticRegression(multi_class='multinomial', solver='lbfgs', max_iter=1000)\n",
        "\n",
        "# # 2-Trained the logmodel object, i.e. applied the model to the training data set.\n",
        "# logmodel = logmodel.fit(X_train, y_train)\n",
        "\n",
        "# # 3-Tested the trained logmodel object i.e. made predictions using the re-sampled X test dataset\n",
        "# y_predict = logmodel.predict(X_test)\n",
        "\n",
        "# # 4-Evaluated the model's performance\n",
        "# print(classification_report(y_test, y_predict))"
      ]
    },
    {
      "cell_type": "markdown",
      "id": "d0ebaa21-95b7-4d11-9c5e-919a9af7b72b",
      "metadata": {
        "id": "d0ebaa21-95b7-4d11-9c5e-919a9af7b72b"
      },
      "source": [
        "\n",
        "The lbfgs solver is an optimization algorithm that is well-suited for multinomial (multi-class) logistic regression. It optimizes the likelihood for the entire multinomial model, rather than just a series of binary models. It is the default solver for a logistic regression model.\n",
        "\n",
        "**With no scaling, the solver failed to converge even after the maximum number of iterations was increased from 200 to 1000. This was a strong indicator of the need to scale the continuous feature variables in the dataset.**"
      ]
    },
    {
      "cell_type": "markdown",
      "id": "9879bb52-3793-4475-98c6-712c941cbcef",
      "metadata": {
        "id": "9879bb52-3793-4475-98c6-712c941cbcef"
      },
      "source": [
        "### Selection of scaling method for the continuous X data\n",
        "\n",
        "The three continuous variables are BMI (12-98), number of days mental health not good (MentHlth) (0-30), and number of days physical health not good (PhysHlth) (0-30).\n",
        "\n",
        "Scaling can help certain machine learning algorithms learn more effectively by bringing the data features into a comparable range. This can lead to better model performance and more accurate predictions. But it's not always necessary e.g. some algorithms, like decision trees or random forests, are less sensitive to feature scaling.\n",
        "\n",
        "Standardization is recommended when working with logistic regressions. However, in the absence of normal disrbution of the variables, this may not be the most suitable method. The impact of a number of different scalers on model performance was considered."
      ]
    },
    {
      "cell_type": "code",
      "execution_count": null,
      "id": "9d575519-cd03-47af-b872-f94c200302f3",
      "metadata": {
        "id": "9d575519-cd03-47af-b872-f94c200302f3"
      },
      "outputs": [],
      "source": [
        "# Required libraries\n",
        "\n",
        "from sklearn.feature_selection import RFECV # for recursive feature selection\n",
        "\n",
        "from sklearn.model_selection import train_test_split   # For splitting the data\n",
        "from sklearn.linear_model import LogisticRegression   # For creating an instance of the regression model\n",
        "from sklearn.metrics import classification_report, confusion_matrix     # For validation of the model performance"
      ]
    },
    {
      "cell_type": "code",
      "execution_count": null,
      "id": "2424e88a-62ca-4d7c-a6e6-fc39bf5f7be2",
      "metadata": {
        "scrolled": true,
        "id": "2424e88a-62ca-4d7c-a6e6-fc39bf5f7be2",
        "outputId": "4a05e002-1f90-473b-8cd2-42f077250104"
      },
      "outputs": [
        {
          "name": "stdout",
          "output_type": "stream",
          "text": [
            "StandardScaler:\n",
            "              precision    recall  f1-score   support\n",
            "\n",
            "           0       0.59      0.65      0.62       934\n",
            "           1       0.42      0.28      0.34       924\n",
            "           2       0.51      0.63      0.56       921\n",
            "\n",
            "    accuracy                           0.52      2779\n",
            "   macro avg       0.51      0.52      0.51      2779\n",
            "weighted avg       0.51      0.52      0.51      2779\n",
            "\n",
            "MinMaxScaler:\n",
            "              precision    recall  f1-score   support\n",
            "\n",
            "           0       0.59      0.65      0.62       934\n",
            "           1       0.42      0.28      0.33       924\n",
            "           2       0.51      0.63      0.56       921\n",
            "\n",
            "    accuracy                           0.52      2779\n",
            "   macro avg       0.51      0.52      0.50      2779\n",
            "weighted avg       0.51      0.52      0.50      2779\n",
            "\n",
            "RobustScaler:\n",
            "              precision    recall  f1-score   support\n",
            "\n",
            "           0       0.59      0.65      0.62       934\n",
            "           1       0.42      0.28      0.34       924\n",
            "           2       0.51      0.63      0.56       921\n",
            "\n",
            "    accuracy                           0.52      2779\n",
            "   macro avg       0.51      0.52      0.51      2779\n",
            "weighted avg       0.51      0.52      0.51      2779\n",
            "\n",
            "Normalizer:\n",
            "              precision    recall  f1-score   support\n",
            "\n",
            "           0       0.59      0.65      0.62       934\n",
            "           1       0.43      0.28      0.34       924\n",
            "           2       0.50      0.63      0.56       921\n",
            "\n",
            "    accuracy                           0.52      2779\n",
            "   macro avg       0.51      0.52      0.51      2779\n",
            "weighted avg       0.51      0.52      0.51      2779\n",
            "\n"
          ]
        }
      ],
      "source": [
        "# Created an instance of the logistic regression model\n",
        "logmodel = LogisticRegression(multi_class='multinomial', solver='lbfgs', max_iter=500, random_state=42)\n",
        "\n",
        "# Tried different scalers with the continuous variables and evaluated impact on model performance #\n",
        "X_train_scaled = X_train.copy()\n",
        "X_test_scaled = X_test.copy()\n",
        "\n",
        "scalers = {'StandardScaler': StandardScaler(), 'MinMaxScaler': MinMaxScaler(), 'RobustScaler': RobustScaler(), 'Normalizer': Normalizer()}\n",
        "\n",
        "for name, scaler in scalers.items():\n",
        "    # Fit and transform the continuous training X data i.e. scale the training X data\n",
        "    X_train_scaled[['BMI', 'MentHlth', 'PhysHlth']] = scaler.fit_transform(X_train_scaled[['BMI', 'MentHlth', 'PhysHlth']])\n",
        "    # Transform the continuous test X data using the fitted scaler\n",
        "    X_test_scaled[['BMI', 'MentHlth', 'PhysHlth']] = scaler.transform(X_test_scaled[['BMI', 'MentHlth', 'PhysHlth']])\n",
        "\n",
        "    logmodel.fit(X_train_scaled, y_train) # Trained the logmodel object, i.e. applied the model to the training data set.\n",
        "\n",
        "\n",
        "    y_predict = logmodel.predict(X_test_scaled) # Tested the trained logmodel object i.e. made predictions\n",
        "\n",
        "    # Evaluated the model's performance\n",
        "    print(f'{name}:')\n",
        "    print(classification_report(y_test, y_predict))"
      ]
    },
    {
      "cell_type": "markdown",
      "id": "2d5c2425-13d1-4c48-b23b-5a40c7ca3d9f",
      "metadata": {
        "id": "2d5c2425-13d1-4c48-b23b-5a40c7ca3d9f"
      },
      "source": [
        "\n",
        "The scalers performed similarly, each resulting in an accuracy score of 0.52. However, since exploratory data analysis showed that the distributions of the three variables were not normal or gaussian, the MinMaxScaler was preferred over the StandardScaler.\n",
        "\n",
        "N.B. The evaluation of the need for scaling was done using the \"original\" re-sampled dataset A (i.e. with 3 diabetes classes). The insights derived here still apply to dataset B because the variables remained the same while the structure of the dataset was altered."
      ]
    },
    {
      "cell_type": "markdown",
      "id": "a6c3e23e-a091-4244-a989-b5883e434c36",
      "metadata": {
        "id": "a6c3e23e-a091-4244-a989-b5883e434c36"
      },
      "source": [
        "## FEATURE AND MODEL SELECTION\n",
        "\n",
        "### RE-SAMPLED DATASET: A\n",
        "Original count: class 0 = 213703, class 1 = 4631, class 2 = 35346\n",
        "\n",
        "Final count (after random undersampling): class 0 = 4631, class 1 = 4631, class 2 = 4631\n",
        "\n",
        "### Recursive feature elimination with cross validation using a multinomial logistic regression model (Dataset A)\n",
        "Recursive feature elimination with cross validation allows for selection of the optimal subset of features that maximizes the model's performance while accounting for potential overfitting or instability in feature selection.\n",
        "\n",
        "This feature selection technique was preferred over other methods such as univariate feature selection where the user has to specify the top number of features to consider and the more computationally expensive principal componenet analysis that is best suited for high dimensional (large and complex) datasets."
      ]
    },
    {
      "cell_type": "markdown",
      "id": "817ee6ac-90ad-4940-9eea-3ceeacbe9fff",
      "metadata": {
        "id": "817ee6ac-90ad-4940-9eea-3ceeacbe9fff"
      },
      "source": [
        "**Scaling of the continuous X data**"
      ]
    },
    {
      "cell_type": "code",
      "execution_count": null,
      "id": "f45ba992-42e4-4fa1-990b-a5fec82365f4",
      "metadata": {
        "id": "f45ba992-42e4-4fa1-990b-a5fec82365f4"
      },
      "outputs": [],
      "source": [
        "# Created an instance of the MinMaxScaler\n",
        "scaler = MinMaxScaler()\n",
        "\n",
        "X_train_scaled1 = X_train.copy()\n",
        "X_test_scaled1 = X_test.copy()\n",
        "\n",
        "# Fitted and transformed the training X data i.e. scaled / standardized the training X data\n",
        "X_train_scaled1[['BMI', 'MentHlth', 'PhysHlth']] = scaler.fit_transform(X_train[['BMI', 'MentHlth', 'PhysHlth']])\n",
        "\n",
        "# Transformed the test X data using the fitted scaler\n",
        "X_test_scaled1[['BMI', 'MentHlth', 'PhysHlth']] = scaler.transform(X_test[['BMI', 'MentHlth', 'PhysHlth']])\n"
      ]
    },
    {
      "cell_type": "markdown",
      "id": "2f50685f-7002-4b7f-b06f-bd6a6d2ab2d8",
      "metadata": {
        "id": "2f50685f-7002-4b7f-b06f-bd6a6d2ab2d8"
      },
      "source": [
        "**Feature selection**"
      ]
    },
    {
      "cell_type": "code",
      "execution_count": null,
      "id": "29a755a0-d7ad-4b62-be60-c23af450b67b",
      "metadata": {
        "id": "29a755a0-d7ad-4b62-be60-c23af450b67b"
      },
      "outputs": [],
      "source": [
        "# Created an instance of the logistic regression model\n",
        "logmodel1 = LogisticRegression(multi_class='multinomial', solver='lbfgs', max_iter=400, random_state=42)"
      ]
    },
    {
      "cell_type": "markdown",
      "id": "2990a3be-59ad-43c1-844e-ecd3e8036b31",
      "metadata": {
        "id": "2990a3be-59ad-43c1-844e-ecd3e8036b31"
      },
      "source": [
        "The lbfgs solver is an optimization algorithm that is well-suited for multinomial (multi-class) logistic regression. It optimizes the likelihood for the entire multinomial model, rather than just a series of binary models. It is the default solver for a logistic regression model."
      ]
    },
    {
      "cell_type": "code",
      "execution_count": null,
      "id": "5f073929-93c5-4342-94fb-16fe811c4bae",
      "metadata": {
        "id": "5f073929-93c5-4342-94fb-16fe811c4bae"
      },
      "outputs": [],
      "source": [
        "# Created a RFECV object / instance of the feature selector and specified the arguments\n",
        "rfecv1 = RFECV(estimator = logmodel1, step=1, cv=5, scoring=\"accuracy\", n_jobs=-1)"
      ]
    },
    {
      "cell_type": "code",
      "execution_count": null,
      "id": "029dbcd1-ae44-4fe6-b962-29f8100aa7d6",
      "metadata": {
        "id": "029dbcd1-ae44-4fe6-b962-29f8100aa7d6"
      },
      "outputs": [],
      "source": [
        "# Trained the RFECV object: Fit the training data i.e. applied the feature selector object to the training data set.\n",
        "rfecv1 = rfecv1.fit(X_train_scaled1, y_train)"
      ]
    },
    {
      "cell_type": "code",
      "execution_count": null,
      "id": "1c89b1f3-6606-4744-9534-3a740add22b7",
      "metadata": {
        "id": "1c89b1f3-6606-4744-9534-3a740add22b7",
        "outputId": "10971eb5-ebb2-4b5a-cf2f-cb50bd12d04f"
      },
      "outputs": [
        {
          "name": "stdout",
          "output_type": "stream",
          "text": [
            "20\n",
            "Index(['HighBP', 'HighChol', 'CholCheck', 'BMI', 'Smoker', 'Stroke',\n",
            "       'HeartDiseaseorAttack', 'PhysActivity', 'Veggies', 'HvyAlcoholConsump',\n",
            "       'AnyHealthcare', 'NoDocbcCost', 'GenHlth', 'MentHlth', 'PhysHlth',\n",
            "       'DiffWalk', 'Sex', 'Age', 'Education', 'Income'],\n",
            "      dtype='object')\n"
          ]
        }
      ],
      "source": [
        "# Checked the optimal number of features identified.\n",
        "\n",
        "optimal_num = rfecv1.n_features_\n",
        "Best_features = features[rfecv1.support_]  # support_ is an attribute of the rfecv object that indicates which features are selected\n",
        "                                            # as important by the algorithm. Features is the list of all of the original features\n",
        "print (optimal_num)\n",
        "print (Best_features)"
      ]
    },
    {
      "cell_type": "markdown",
      "id": "45d8c779-ecbf-4be7-9fd7-9d4224b67991",
      "metadata": {
        "id": "45d8c779-ecbf-4be7-9fd7-9d4224b67991"
      },
      "source": [
        "\n",
        "Recursive feature elimination with cross validation essentially allowed for the selection of the most relevant features from the dataset while simultaneously evaluating the performance of the model using cross-validation. The features were selected based on their impact on the model's performance."
      ]
    },
    {
      "cell_type": "code",
      "execution_count": null,
      "id": "6f3e6d63-f56b-417c-b38b-7f0d18a56fd6",
      "metadata": {
        "id": "6f3e6d63-f56b-417c-b38b-7f0d18a56fd6"
      },
      "outputs": [],
      "source": [
        "# Tested the trained RFECV object i.e. made predictions using the re-sampled scaled X test dataset\n",
        "y_predict = rfecv1.predict(X_test_scaled1)"
      ]
    },
    {
      "cell_type": "code",
      "execution_count": null,
      "id": "b0d3f96f-6dee-4e4f-b10d-e6fa8c1536d3",
      "metadata": {
        "id": "b0d3f96f-6dee-4e4f-b10d-e6fa8c1536d3",
        "outputId": "d7f1a96c-dd3d-4ed1-c2c6-a48660ae5f9f"
      },
      "outputs": [
        {
          "name": "stdout",
          "output_type": "stream",
          "text": [
            "              precision    recall  f1-score   support\n",
            "\n",
            "           0       0.59      0.65      0.62       934\n",
            "           1       0.42      0.29      0.34       924\n",
            "           2       0.51      0.63      0.56       921\n",
            "\n",
            "    accuracy                           0.52      2779\n",
            "   macro avg       0.51      0.52      0.51      2779\n",
            "weighted avg       0.51      0.52      0.51      2779\n",
            "\n"
          ]
        },
        {
          "data": {
            "text/plain": [
              "Text(50.722222222222214, 0.5, 'y_predicted')"
            ]
          },
          "execution_count": 32,
          "metadata": {},
          "output_type": "execute_result"
        },
        {
          "data": {
            "image/png": "[encoded data removed]",
            "text/plain": [
              "<Figure size 640x480 with 2 Axes>"
            ]
          },
          "metadata": {},
          "output_type": "display_data"
        }
      ],
      "source": [
        "# Evaluated the model's performance\n",
        "\n",
        "print(classification_report(y_test, y_predict))\n",
        "\n",
        "cm = confusion_matrix(y_test, y_predict)\n",
        "sns.heatmap(cm, annot=True, fmt='d')      # fmt stands for format and it is set to decimal\n",
        "plt.xlabel('y_test')\n",
        "plt.ylabel('y_predicted')"
      ]
    },
    {
      "cell_type": "markdown",
      "id": "1fed944a-b3f9-4f00-bc6e-e6217d820529",
      "metadata": {
        "id": "1fed944a-b3f9-4f00-bc6e-e6217d820529"
      },
      "source": [
        "At this stage, the quality metrics indicated a poor to average model performance, with an overall accuracy of 0.52.\n",
        "Notably, the non-diabetic (0) and diabetic (2) classes appeared to dominate or influence the model more (refer to recall and f1 scores.)"
      ]
    },
    {
      "cell_type": "markdown",
      "id": "199b3c50-19ff-4051-bbeb-88cd4af14848",
      "metadata": {
        "id": "199b3c50-19ff-4051-bbeb-88cd4af14848"
      },
      "source": [
        "## FEATURE AND MODEL SELECTION\n",
        "\n",
        "### RE-SAMPLED DATASET: A\n",
        "\n",
        "### Recursive feature elimination with cross validation using a random forest model (Dataset A)\n",
        "A random forest model was considered because it can potentailly offer more robust predictions.\n",
        "\n",
        "Random forest models are based on the ensemble learning method and combine multiple decision trees for a more accurate prediction.\n",
        "The decision trees are trained independently on subsets of the data."
      ]
    },
    {
      "cell_type": "code",
      "execution_count": null,
      "id": "4dc9d5bc-7e03-4823-beff-723d21ffe746",
      "metadata": {
        "id": "4dc9d5bc-7e03-4823-beff-723d21ffe746"
      },
      "outputs": [],
      "source": [
        "from sklearn.ensemble import RandomForestClassifier"
      ]
    },
    {
      "cell_type": "code",
      "execution_count": null,
      "id": "e88bcb00-4eea-489a-be74-c8bf8cc86ec4",
      "metadata": {
        "id": "e88bcb00-4eea-489a-be74-c8bf8cc86ec4"
      },
      "outputs": [],
      "source": [
        "# Created an instance of the random forest model using standard or default parameters\n",
        "\n",
        "rfmodel = RandomForestClassifier(n_estimators=100, random_state=42)"
      ]
    },
    {
      "cell_type": "code",
      "execution_count": null,
      "id": "0c50332e-f24f-4888-ab49-1a623f299c8c",
      "metadata": {
        "id": "0c50332e-f24f-4888-ab49-1a623f299c8c"
      },
      "outputs": [],
      "source": [
        "# Created a new instance of the recursive feature selector\n",
        "\n",
        "rfecvRF = RFECV(estimator = rfmodel, step=1, cv=5, scoring=\"accuracy\", n_jobs=-1)"
      ]
    },
    {
      "cell_type": "markdown",
      "id": "09983259-475b-4bd5-b504-10b9704466e0",
      "metadata": {
        "id": "09983259-475b-4bd5-b504-10b9704466e0"
      },
      "source": [
        "\n",
        "As discussed previously, some algorithms, like decision trees or random forests, are less sensitive to feature scaling. Trees split on the values of features directly and are therefore invariant to the scale or distribution of the feature values. The unscaled training and testing X-data was therefore used."
      ]
    },
    {
      "cell_type": "code",
      "execution_count": null,
      "id": "e0244edb-00fd-41ac-a890-680ee1c65bd6",
      "metadata": {
        "id": "e0244edb-00fd-41ac-a890-680ee1c65bd6"
      },
      "outputs": [],
      "source": [
        "# Trained the RFECV object: Fitted the training data i.e. applied the feature selector object to the training data set.\n",
        "\n",
        "rfecvRF = rfecvRF.fit(X_train, y_train)"
      ]
    },
    {
      "cell_type": "code",
      "execution_count": null,
      "id": "8d984b66-df09-4348-9f65-97cbd08af803",
      "metadata": {
        "id": "8d984b66-df09-4348-9f65-97cbd08af803",
        "outputId": "51a5796c-fbb6-4fff-c636-6207140f018a"
      },
      "outputs": [
        {
          "name": "stdout",
          "output_type": "stream",
          "text": [
            "20\n",
            "Index(['HighBP', 'HighChol', 'BMI', 'Smoker', 'Stroke', 'HeartDiseaseorAttack',\n",
            "       'PhysActivity', 'Fruits', 'Veggies', 'HvyAlcoholConsump',\n",
            "       'AnyHealthcare', 'NoDocbcCost', 'GenHlth', 'MentHlth', 'PhysHlth',\n",
            "       'DiffWalk', 'Sex', 'Age', 'Education', 'Income'],\n",
            "      dtype='object')\n"
          ]
        }
      ],
      "source": [
        "# Checked the optimal number of features identified.\n",
        "\n",
        "optimal_num = rfecvRF.n_features_\n",
        "Best_features = features[rfecvRF.support_]  # indexing the columns by those in the trained rfecv object only\n",
        "\n",
        "# Features refers to the list of columns (features)from X. Created at time of original split.\n",
        "print (optimal_num)\n",
        "print (Best_features)"
      ]
    },
    {
      "cell_type": "code",
      "execution_count": null,
      "id": "d06fa8a6-a98f-4d5c-879d-b354f38557d5",
      "metadata": {
        "id": "d06fa8a6-a98f-4d5c-879d-b354f38557d5"
      },
      "outputs": [],
      "source": [
        "# Tested the trained RFECV object i.e. made predictions using the re-sampled scaled X test data set\n",
        "\n",
        "y_predictRF = rfecvRF.predict(X_test)"
      ]
    },
    {
      "cell_type": "code",
      "execution_count": null,
      "id": "fe931e46-46b8-4ba4-9434-e68d08b520e4",
      "metadata": {
        "id": "fe931e46-46b8-4ba4-9434-e68d08b520e4",
        "outputId": "e4cc3755-0ec9-4568-cefb-8c8624d6bcc7"
      },
      "outputs": [
        {
          "name": "stdout",
          "output_type": "stream",
          "text": [
            "              precision    recall  f1-score   support\n",
            "\n",
            "           0       0.59      0.58      0.59       934\n",
            "           1       0.38      0.34      0.36       924\n",
            "           2       0.49      0.55      0.52       921\n",
            "\n",
            "    accuracy                           0.49      2779\n",
            "   macro avg       0.49      0.49      0.49      2779\n",
            "weighted avg       0.49      0.49      0.49      2779\n",
            "\n"
          ]
        },
        {
          "data": {
            "text/plain": [
              "Text(50.722222222222214, 0.5, 'y_predicted')"
            ]
          },
          "execution_count": 39,
          "metadata": {},
          "output_type": "execute_result"
        },
        {
          "data": {
            "image/png": "[encoded data removed]",
            "text/plain": [
              "<Figure size 640x480 with 2 Axes>"
            ]
          },
          "metadata": {},
          "output_type": "display_data"
        }
      ],
      "source": [
        "# Evaluated the model's performance\n",
        "\n",
        "print(classification_report(y_test, y_predictRF))\n",
        "\n",
        "cm = confusion_matrix(y_test, y_predictRF)\n",
        "sns.heatmap(cm, annot=True, fmt='d')      # fmt stands for format and it is set to decimal\n",
        "plt.xlabel('y_test')\n",
        "plt.ylabel('y_predicted')"
      ]
    },
    {
      "cell_type": "markdown",
      "id": "cd92d28b-4d43-4bc8-b5d8-cb84e9cf86ca",
      "metadata": {
        "id": "cd92d28b-4d43-4bc8-b5d8-cb84e9cf86ca"
      },
      "source": [
        "Incorporation of an ensemble learning-method (random forest model) did not improve the performance.\n"
      ]
    },
    {
      "cell_type": "markdown",
      "id": "2944aa88-4490-433b-a9c9-61da9ea3b190",
      "metadata": {
        "id": "2944aa88-4490-433b-a9c9-61da9ea3b190"
      },
      "source": [
        "## FEATURE AND MODEL SELECTION\n",
        "\n",
        "### RE-SAMPLED DATASET: A\n",
        "\n",
        "### Recursive feature elimination with cross validation using a gradient boosting model, XGBoost (Dataset A)\n",
        "Gradient Boosting: This specific technique within ensemble learning involves training models sequentially. Each new model tries to improve upon the predictions of the previous model by focusing on areas where it made mistakes.\n",
        "\n",
        "XGBoost utilizes a particularly efficient gradient boosting algorithm that optimizes the model training process. It iteratively builds decision trees, with each new tree focusing on correcting the errors made by the previous ones."
      ]
    },
    {
      "cell_type": "code",
      "execution_count": null,
      "id": "ae3dbf78-ce48-4ee4-9b8b-43a16073c58d",
      "metadata": {
        "id": "ae3dbf78-ce48-4ee4-9b8b-43a16073c58d"
      },
      "outputs": [],
      "source": [
        "# Loaded the required library\n",
        "\n",
        "import xgboost as xgb"
      ]
    },
    {
      "cell_type": "code",
      "execution_count": null,
      "id": "97bfdebf-d331-47f0-aa79-380b8affe39e",
      "metadata": {
        "id": "97bfdebf-d331-47f0-aa79-380b8affe39e"
      },
      "outputs": [],
      "source": [
        "# Created an instance of the xgb classifier\n",
        "\n",
        "xgbclf = xgb.XGBClassifier(random_state=42)"
      ]
    },
    {
      "cell_type": "code",
      "execution_count": null,
      "id": "92e14092-31a1-478c-96ed-071ee0a9fcbc",
      "metadata": {
        "id": "92e14092-31a1-478c-96ed-071ee0a9fcbc"
      },
      "outputs": [],
      "source": [
        "# Created an instance of the recursive feature selector\n",
        "\n",
        "rfecvXG = RFECV(estimator = xgbclf, step=1, cv=5, scoring=\"accuracy\", n_jobs=-1)"
      ]
    },
    {
      "cell_type": "markdown",
      "id": "bc5a1169-5485-4b4c-96b0-a79aaadd7031",
      "metadata": {
        "id": "bc5a1169-5485-4b4c-96b0-a79aaadd7031"
      },
      "source": [
        "XGBoost is based on decision trees. Trees split on the values of features directly and are therefore invariant to the scale or distribution of the feature values. The unscaled training and testing X-data was therefore used."
      ]
    },
    {
      "cell_type": "code",
      "execution_count": null,
      "id": "20d19362-ecb3-4066-824e-ca8419749401",
      "metadata": {
        "id": "20d19362-ecb3-4066-824e-ca8419749401"
      },
      "outputs": [],
      "source": [
        "# Trained the RFECV object: Fitted the training data i.e. applied the feature selector object to the training data set.\n",
        "\n",
        "rfecvXG = rfecvXG.fit(X_train, y_train)"
      ]
    },
    {
      "cell_type": "code",
      "execution_count": null,
      "id": "57c07c2d-186f-45f1-9aa6-43aa7905b7a3",
      "metadata": {
        "id": "57c07c2d-186f-45f1-9aa6-43aa7905b7a3",
        "outputId": "4a6ba49f-5840-48b6-8703-0730ad89a62a"
      },
      "outputs": [
        {
          "name": "stdout",
          "output_type": "stream",
          "text": [
            "12\n",
            "Index(['HighBP', 'HighChol', 'CholCheck', 'BMI', 'Stroke',\n",
            "       'HeartDiseaseorAttack', 'HvyAlcoholConsump', 'NoDocbcCost', 'GenHlth',\n",
            "       'DiffWalk', 'Age', 'Income'],\n",
            "      dtype='object')\n"
          ]
        }
      ],
      "source": [
        "# Checked the optimal number of features identified.\n",
        "\n",
        "optimal_num = rfecvXG.n_features_\n",
        "Best_features = features[rfecvXG.support_]  # indexing the columns by those in the trained rfecv object only\n",
        "# Features refers to the list of columns from X. Created at time of original split\n",
        "\n",
        "print (optimal_num)\n",
        "print (Best_features)"
      ]
    },
    {
      "cell_type": "code",
      "execution_count": null,
      "id": "84bfb664-7975-48b8-bebe-e3ce071ff87d",
      "metadata": {
        "id": "84bfb664-7975-48b8-bebe-e3ce071ff87d"
      },
      "outputs": [],
      "source": [
        "# Tested the trained RFECV object i.e. made predictions using the re-sampled scaled x test data set\n",
        "\n",
        "y_predictXG = rfecvXG.predict(X_test)"
      ]
    },
    {
      "cell_type": "code",
      "execution_count": null,
      "id": "46ef80ad-89ba-4170-b384-a5e26c589289",
      "metadata": {
        "id": "46ef80ad-89ba-4170-b384-a5e26c589289",
        "outputId": "b4deeea7-67e0-48c7-9540-48796d0dacd9"
      },
      "outputs": [
        {
          "name": "stdout",
          "output_type": "stream",
          "text": [
            "              precision    recall  f1-score   support\n",
            "\n",
            "           0       0.59      0.59      0.59       934\n",
            "           1       0.40      0.33      0.36       924\n",
            "           2       0.50      0.58      0.54       921\n",
            "\n",
            "    accuracy                           0.50      2779\n",
            "   macro avg       0.50      0.50      0.50      2779\n",
            "weighted avg       0.50      0.50      0.50      2779\n",
            "\n"
          ]
        },
        {
          "data": {
            "text/plain": [
              "Text(50.722222222222214, 0.5, 'y_predicted')"
            ]
          },
          "execution_count": 46,
          "metadata": {},
          "output_type": "execute_result"
        },
        {
          "data": {
            "image/png": "[encoded data removed]",
            "text/plain": [
              "<Figure size 640x480 with 2 Axes>"
            ]
          },
          "metadata": {},
          "output_type": "display_data"
        }
      ],
      "source": [
        "# Evaluated the model's performance\n",
        "\n",
        "print(classification_report(y_test, y_predictXG))\n",
        "\n",
        "cm = confusion_matrix(y_test, y_predictXG)\n",
        "sns.heatmap(cm, annot=True, fmt='d')      # fmt stands for format and it is set to decimal\n",
        "plt.xlabel('y_test')\n",
        "plt.ylabel('y_predicted')"
      ]
    },
    {
      "cell_type": "markdown",
      "id": "cca15829-afc5-4812-85aa-ce9bbf6d5c4f",
      "metadata": {
        "id": "cca15829-afc5-4812-85aa-ce9bbf6d5c4f"
      },
      "source": [
        "Even with a more sophisticated ensemble learning model, there was no improvement in the predictive model performance as accuracy remained at 0.50.\n",
        "\n",
        "One factor to take into consideration is that the process of re-sampling while seeking to maintain the three original classes may have resulted in excessive / critical undersampling of the majority classes."
      ]
    },
    {
      "cell_type": "markdown",
      "id": "ab41f227-89dc-464f-a930-12a634fcbe1b",
      "metadata": {
        "id": "ab41f227-89dc-464f-a930-12a634fcbe1b"
      },
      "source": [
        "## FEATURE AND MODEL SELECTION\n",
        "\n",
        "### RE-SAMPLED DATASET: B\n",
        "\n",
        "Original count: class 0 = 213703, class 1 = 4631, class 2 = 35346\n",
        "\n",
        "Final count (after re-classification and random undersampling): class 0 = 39977, class 1 = 39977\n",
        "\n",
        "### Recursive feature elimination with cross validation using a logistic regression model (Dataset B)"
      ]
    },
    {
      "cell_type": "code",
      "execution_count": null,
      "id": "47eb7c8a-e6a7-45bc-a8fc-330e01e29eb4",
      "metadata": {
        "id": "47eb7c8a-e6a7-45bc-a8fc-330e01e29eb4"
      },
      "outputs": [],
      "source": [
        "# Created an instance of the Logistic regression model\n",
        "\n",
        "logmodel2 = LogisticRegression(solver='lbfgs', max_iter=300, random_state=42) #default max_iter=200 did not allow for convergance"
      ]
    },
    {
      "cell_type": "code",
      "execution_count": null,
      "id": "ad89d67e-3dbf-4109-bd9e-2077ec5f852f",
      "metadata": {
        "id": "ad89d67e-3dbf-4109-bd9e-2077ec5f852f"
      },
      "outputs": [],
      "source": [
        "# Created an instance of the recursive feature elimination with cross validation model\n",
        "\n",
        "rfecv2 =  RFECV(estimator = logmodel2, step=1, cv=5, scoring=\"accuracy\", n_jobs=-1)"
      ]
    },
    {
      "cell_type": "code",
      "execution_count": null,
      "id": "81b7a082-5c75-4086-a37c-981c0b51d79e",
      "metadata": {
        "id": "81b7a082-5c75-4086-a37c-981c0b51d79e"
      },
      "outputs": [],
      "source": [
        "# The re-sampled data was split into training and testing data; X_resampled2 and y_resampled2 are associated with dataset B\n",
        "\n",
        "X_train2, X_test2, y_train2, y_test2 = train_test_split(X_resampled2, y_resampled2, test_size=0.2, random_state=42)"
      ]
    },
    {
      "cell_type": "markdown",
      "id": "a4067a9d-cccd-4090-afe8-a8be6ad6e33c",
      "metadata": {
        "id": "a4067a9d-cccd-4090-afe8-a8be6ad6e33c"
      },
      "source": [
        "**Scaling of the continuous X data**\n",
        "\n",
        "Necessary to handle the difference in scale of the variables. This aids model optimization."
      ]
    },
    {
      "cell_type": "code",
      "execution_count": null,
      "id": "7915f724-401b-4fef-ad8d-fc952eafbc29",
      "metadata": {
        "id": "7915f724-401b-4fef-ad8d-fc952eafbc29"
      },
      "outputs": [],
      "source": [
        "# Created an instance of the caler\n",
        "scaler2 = MinMaxScaler()\n",
        "\n",
        "X_train_scaled2 = X_train2.copy()\n",
        "X_test_scaled2 = X_test2.copy()\n",
        "\n",
        "# Fitted and transformed the training X data i.e. scaled / standardized the training X data\n",
        "X_train_scaled2[['BMI', 'MentHlth', 'PhysHlth']] = scaler2.fit_transform(X_train2[['BMI', 'MentHlth', 'PhysHlth']])\n",
        "\n",
        "# Transformed the test X data using the fitted scaler\n",
        "X_test_scaled2[['BMI', 'MentHlth', 'PhysHlth']] = scaler2.transform(X_test2[['BMI', 'MentHlth', 'PhysHlth']])\n"
      ]
    },
    {
      "cell_type": "code",
      "execution_count": null,
      "id": "3b5ddb7c-63f3-43ca-83d1-a599253c5c04",
      "metadata": {
        "id": "3b5ddb7c-63f3-43ca-83d1-a599253c5c04"
      },
      "outputs": [],
      "source": [
        "# Trained the feature selection on=bject with the re-sampled, scaled training data\n",
        "\n",
        "rfecv2 = rfecv2.fit(X_train_scaled2, y_train2)"
      ]
    },
    {
      "cell_type": "code",
      "execution_count": null,
      "id": "c1b84947-4a04-4f90-b366-90208626dc7a",
      "metadata": {
        "id": "c1b84947-4a04-4f90-b366-90208626dc7a",
        "outputId": "52425b23-163d-433c-945e-5830d1e5e38d"
      },
      "outputs": [
        {
          "name": "stdout",
          "output_type": "stream",
          "text": [
            "16\n",
            "Index(['HighBP', 'HighChol', 'CholCheck', 'BMI', 'Stroke',\n",
            "       'HeartDiseaseorAttack', 'HvyAlcoholConsump', 'NoDocbcCost', 'GenHlth',\n",
            "       'MentHlth', 'PhysHlth', 'DiffWalk', 'Sex', 'Age', 'Education',\n",
            "       'Income'],\n",
            "      dtype='object')\n"
          ]
        }
      ],
      "source": [
        "# Checked the optimal number of features identified.\n",
        "\n",
        "optimal_num = rfecv2.n_features_\n",
        "Best_features = features[rfecv2.support_]  # indexing the columns by those in the trained rfecv object only\n",
        "# Features refers to the list of columns from X. Created at time of original split\n",
        "\n",
        "print (optimal_num)\n",
        "print (Best_features)"
      ]
    },
    {
      "cell_type": "code",
      "execution_count": null,
      "id": "d3810922-6cf0-48b7-b38a-f5d50ea4b03a",
      "metadata": {
        "id": "d3810922-6cf0-48b7-b38a-f5d50ea4b03a"
      },
      "outputs": [],
      "source": [
        "# Tested the trained RFECV object i.e. made predictions using the re-sampled scaled X test data set\n",
        "\n",
        "y_predict2 = rfecv2.predict(X_test_scaled2)"
      ]
    },
    {
      "cell_type": "code",
      "execution_count": null,
      "id": "092b22d6-7309-4731-b63c-4e08962ab9ce",
      "metadata": {
        "id": "092b22d6-7309-4731-b63c-4e08962ab9ce",
        "outputId": "5af66e36-2877-4294-8377-6528632c3d62"
      },
      "outputs": [
        {
          "name": "stdout",
          "output_type": "stream",
          "text": [
            "              precision    recall  f1-score   support\n",
            "\n",
            "           0       0.75      0.72      0.74      8027\n",
            "           1       0.73      0.76      0.74      7964\n",
            "\n",
            "    accuracy                           0.74     15991\n",
            "   macro avg       0.74      0.74      0.74     15991\n",
            "weighted avg       0.74      0.74      0.74     15991\n",
            "\n"
          ]
        },
        {
          "data": {
            "text/plain": [
              "Text(50.722222222222214, 0.5, 'y_predicted')"
            ]
          },
          "execution_count": 54,
          "metadata": {},
          "output_type": "execute_result"
        },
        {
          "data": {
            "image/png": "[encoded data removed]",
            "text/plain": [
              "<Figure size 640x480 with 2 Axes>"
            ]
          },
          "metadata": {},
          "output_type": "display_data"
        }
      ],
      "source": [
        "# Evaluated the model's performance\n",
        "\n",
        "print(classification_report(y_test2, y_predict2))\n",
        "\n",
        "cm1 = confusion_matrix(y_test2, y_predict2)\n",
        "sns.heatmap(cm1, annot=True, fmt='d')      # fmt stands for format and it is set to decimal\n",
        "plt.xlabel('y_test')\n",
        "plt.ylabel('y_predicted')"
      ]
    },
    {
      "cell_type": "markdown",
      "id": "5571b512-432e-4049-a87c-f7fbbefab254",
      "metadata": {
        "id": "5571b512-432e-4049-a87c-f7fbbefab254"
      },
      "source": [
        "The decision to move to a binary dataset and thereby reduce the extent of random undersampling required to address the class imbalance, was shown to be beneficial. Accuracy was reported at 0.75 and was a balanced representation of both diabetes health status classes.\n",
        "\n",
        "This then presented an opportunity to consider hyperparameter tuning."
      ]
    },
    {
      "cell_type": "markdown",
      "id": "d979a19d-f980-45b6-8909-91f64344d09c",
      "metadata": {
        "id": "d979a19d-f980-45b6-8909-91f64344d09c"
      },
      "source": [
        "## HYPERPARAMETER TUNING\n",
        "## Regularization (C) and solver algorithms for optimization\n",
        "\n",
        "**Regularization** is a technique used in machine learning to prevent overfitting, which happens when a model performs well on training data but poorly on new, unseen data. Overfitting occurs when a model learns not only the underlying patterns in the data but also the noise and outliers.\n",
        "- A large C value equates to a a low regularization strength, which means the model has more flexibility to fit the training data, potentially leading to overfitting.\n",
        "- A small C value equates to high regularization strength. This penalizes complex models more, encouraging simpler models that may generalize better to new data.\n",
        "\n",
        "\n",
        "**Solvers** are algorithms that adjust the coefficients of the logistic regression model to find the best fit for the data. Different solvers can perform better or worse depending on the dataset size and regularization type.\n",
        "\n",
        "**Grid search with cross validation** was used to allow trying of different combinations of hyperparameters to find the best combination for model performance."
      ]
    },
    {
      "cell_type": "code",
      "execution_count": null,
      "id": "e8fa18d9-13c2-4adc-98b4-046428319002",
      "metadata": {
        "id": "e8fa18d9-13c2-4adc-98b4-046428319002"
      },
      "outputs": [],
      "source": [
        "# Adjusted the scaled X training and testing data (dataset B) to reflect the best features identified\n",
        "\n",
        "X_train_scaled_best = X_train_scaled2[['HighBP', 'HighChol', 'CholCheck', 'BMI', 'Stroke', 'HeartDiseaseorAttack', 'HvyAlcoholConsump',\n",
        "                                  'NoDocbcCost', 'GenHlth', 'MentHlth', 'PhysHlth', 'DiffWalk', 'Sex', 'Age', 'Education', 'Income']]\n",
        "\n",
        "X_test_scaled_best = X_test_scaled2[['HighBP', 'HighChol', 'CholCheck', 'BMI', 'Stroke', 'HeartDiseaseorAttack', 'HvyAlcoholConsump',\n",
        "                                  'NoDocbcCost', 'GenHlth', 'MentHlth', 'PhysHlth', 'DiffWalk', 'Sex', 'Age', 'Education', 'Income']]\n"
      ]
    },
    {
      "cell_type": "code",
      "execution_count": null,
      "id": "68377ec1-2c35-469f-b8aa-021969326cc3",
      "metadata": {
        "id": "68377ec1-2c35-469f-b8aa-021969326cc3",
        "outputId": "cc6fbe67-dde7-4f8a-bcbc-fd3d48d7077c"
      },
      "outputs": [
        {
          "name": "stdout",
          "output_type": "stream",
          "text": [
            "Best parameters: {'C': 10, 'max_iter': 200, 'solver': 'sag'}\n",
            "Best cross-validation score: 0.7432735100745713\n"
          ]
        }
      ],
      "source": [
        "from sklearn.model_selection import GridSearchCV\n",
        "\n",
        "# Defined the parameter grid for the hyperparameters to evaluate\n",
        "param_grid = {'solver': ['newton-cg', 'lbfgs', 'sag'],  # most common solvers for large datasets\n",
        "              'max_iter':[200, 300, 400, 500],\n",
        "              'C': [0.01, 0.1, 1, 10, 100]}    #typical range for regularization strengths\n",
        "\n",
        "# Created an instance of GridSearchCV\n",
        "grid_search = GridSearchCV(estimator=logmodel2, param_grid=param_grid, cv=5, scoring='accuracy') # logmodel2 maintained\n",
        "\n",
        "# Fitted the grid search to the training data ('best features')\n",
        "grid_search.fit(X_train_scaled_best, y_train2)\n",
        "\n",
        "print(f'Best parameters: {grid_search.best_params_}') # best_params_ is an attribute ot the grid_search object\n",
        "print(f'Best cross-validation score: {grid_search.best_score_}') # # best_score_ is an attribute ot the grid_search object"
      ]
    },
    {
      "cell_type": "code",
      "execution_count": null,
      "id": "c2fecfc2-a373-4078-b34e-f8196ccb0a50",
      "metadata": {
        "id": "c2fecfc2-a373-4078-b34e-f8196ccb0a50",
        "outputId": "dd8bd5a8-7362-4f86-98d5-f944aa4b3ba3"
      },
      "outputs": [
        {
          "name": "stdout",
          "output_type": "stream",
          "text": [
            "              precision    recall  f1-score   support\n",
            "\n",
            "           0       0.75      0.73      0.74      8027\n",
            "           1       0.73      0.75      0.74      7964\n",
            "\n",
            "    accuracy                           0.74     15991\n",
            "   macro avg       0.74      0.74      0.74     15991\n",
            "weighted avg       0.74      0.74      0.74     15991\n",
            "\n"
          ]
        },
        {
          "data": {
            "text/plain": [
              "Text(50.722222222222214, 0.5, 'y_predicted')"
            ]
          },
          "execution_count": 57,
          "metadata": {},
          "output_type": "execute_result"
        },
        {
          "data": {
            "image/png": "[encoded data removed]",
            "text/plain": [
              "<Figure size 640x480 with 2 Axes>"
            ]
          },
          "metadata": {},
          "output_type": "display_data"
        }
      ],
      "source": [
        "# Application and testing of best parameters and evaluation of the performance\n",
        "\n",
        "# Created an instance of the LogisticRegression model with the 'best parameters'\n",
        "logmodel3 = LogisticRegression(solver='sag', max_iter=400, C=100, random_state=42)\n",
        "\n",
        "# Trained the model with the same scaled training data (best features) i.e. Fitted the model on the scaled training data\n",
        "logmodel3.fit(X_train_scaled_best, y_train2)\n",
        "\n",
        "# Predicted the test set results\n",
        "y_predict3 = logmodel3.predict(X_test_scaled_best)\n",
        "\n",
        "# Generated quality measures\n",
        "print(classification_report(y_test2, y_predict3))\n",
        "\n",
        "cm2 = confusion_matrix(y_test2, y_predict3)\n",
        "sns.heatmap(cm2, annot=True, fmt='d')      # fmt stands for format and it is set to decimal\n",
        "plt.xlabel('y_test')\n",
        "plt.ylabel('y_predicted')"
      ]
    },
    {
      "cell_type": "markdown",
      "id": "834f6ec1-1839-45fe-91ce-d7a366c2ec8d",
      "metadata": {
        "id": "834f6ec1-1839-45fe-91ce-d7a366c2ec8d"
      },
      "source": [
        "There was no notable improvement in model performance with the hyperparameter tuning.\n",
        "\n",
        "The use of emsemble learning models such as random forests and gradient boosting machines did not improve performance when working with version \"A\" of this dataset and therefore it was anticipated that no further improvement would be achieved by considering those models here."
      ]
    },
    {
      "cell_type": "code",
      "execution_count": null,
      "id": "891d4d4c-8684-4891-81ff-bf3199add40c",
      "metadata": {
        "id": "891d4d4c-8684-4891-81ff-bf3199add40c",
        "outputId": "1d82b63e-cdf6-4b5d-e48b-a489d4236433"
      },
      "outputs": [
        {
          "name": "stdout",
          "output_type": "stream",
          "text": [
            "Model coefficients: [ 0.69859805  0.57242781  1.31884351  6.62451121  0.17269666  0.22394965\n",
            " -0.63670167  0.05890317  0.54642078 -0.07747214 -0.1869174   0.06530508\n",
            "  0.24998176  0.14875458 -0.04751266 -0.06777161]\n",
            " \n",
            "Intercept: -5.673398823595133\n",
            " \n",
            "Logistic Regression formula:\n",
            " log_odds = -5.6734 + 0.6986*HighBP + 0.5724*HighChol + 1.3188*CholCheck + 6.6245*BMI + 0.1727*Stroke + 0.2239*HeartDiseaseorAttack + -0.6367*HvyAlcoholConsump + 0.0589*NoDocbcCost + 0.5464*GenHlth + -0.0775*MentHlth + -0.1869*PhysHlth + 0.0653*DiffWalk + 0.2500*Sex + 0.1488*Age + -0.0475*Education + -0.0678*Income\n"
          ]
        }
      ],
      "source": [
        "# Retrieval of model co-efficients and intercept for building of a formula representing the logistic regression model\n",
        "\n",
        "coefficients = logmodel3.coef_[0]      # Extraction of the coefficients of the model using the coef_ attribute\n",
        "intercept = logmodel3.intercept_[0]    # Extraction of the intercept of the model using the intercept_ attribute\n",
        "\n",
        "# Print coefficients and intercept\n",
        "print(\"Model coefficients:\", coefficients)\n",
        "print(\" \")\n",
        "print(\"Intercept:\", intercept)\n",
        "print(\" \")\n",
        "\n",
        "# Create a formula for the logistic regression model\n",
        "features = X_train_scaled_best.columns     # identification of the best features identified and used\n",
        "formula = f'log_odds = {intercept:.4f} + '      # definition of the base formula structure\n",
        "formula += \" + \".join(f'{coef:.4f}*{feat}' for coef, feat in zip(coefficients, features))   # use of zip to iterate over the coefficients and features lists together\n",
        "print(\"Logistic Regression formula:\\n\", formula)\n"
      ]
    },
    {
      "cell_type": "markdown",
      "id": "7d7c2229-1c97-4888-ad40-b22b9b33a0bb",
      "metadata": {
        "id": "7d7c2229-1c97-4888-ad40-b22b9b33a0bb"
      },
      "source": [
        "## CONCLUSIONS\n",
        "This exercise demonstrated the potential for using predicitve modeling in healthcare planning for better future outcomes. Understanding which factors can indicate the likelihood of developing diabetes or any other disease, empowers individuals to act rather than respond.\n",
        "\n",
        "Of the 21 features or potential predictor variables considered, an **optimised logistic regression model** was created using 16 of them.\n",
        "- (i) blood pressure (HighBP), (ii) cholesterol level (HighChol), (iii) when cholesterol levels were last checked (CholCheck), (iv) BMI, (v) Stroke, (vi) Heart disease or attack, (vii) alcohol consumption 'HvyAlcoholConsump', (viii) no doctor because of cost (NoDocbcCost) (ix) general health (GenHlth), (x) mental health (MenHlth) (xi) physical health (PhysHlth), (xii) difficulty walking (DiffWalk), (xiii) Sex, (xiv) Age, (xv) education, and (xvi) income.\n",
        "- **Recursive feature elimination with cross validation** was the feature selection technique of choice.\n",
        "- Ensemble learning models such as random forests and gradient boosting machines were considered but the added complexity did not improve quality measures such as accuracy.\n",
        "- Hyperparameter tuning focused on: **regularization strength**, **solver algorithms** and **maximun iteratons**. A grid search apporach was used to find the best combinatation of parameters.\n",
        "\n",
        "**Next steps?**\n",
        "\n",
        "With an accuracy of 74%, this model performed very well. Both classes have similar performance metrics with precision, recall, and F1-score around 0.73 to 0.75. The macro and weighted averages are also similar, indicating that the performance is fairly balanced across the classes. However, there is still room for improvement to achieve a greater level of accuracy and confidence in the predictions.\n",
        "- Consideration of more computaionally expensive and complex models such as neural networks.\n",
        "- Identification of additional demographic and social indicators.\n",
        "- Expansion of the size of the surveyed population. Such would elevate the distribution of all diabetes classes and help address the downside of **random undersampling** which was the technique adopted to handle **class imbalance**.\n",
        "<br>\n",
        "\n",
        "[Link to current iteration of the Diabetes Predictor app.](https://predictivemodeling-app.streamlit.app/)"
      ]
    },
    {
      "cell_type": "markdown",
      "id": "e0cddcc1-10fb-43e3-9aec-d192732d8a86",
      "metadata": {
        "id": "e0cddcc1-10fb-43e3-9aec-d192732d8a86"
      },
      "source": [
        "### References\n",
        "- [Diabetes Health Indicators Datasets](https://www.kaggle.com/datasets/alexteboul/diabetes-health-indicators-dataset)\n",
        "- [Building Risk Prediction Models for Type 2 Diabetes Using Machine Learning Techniques](https://www.cdc.gov/pcd/issues/2019/19_0109.htm)\n",
        "- [Barbados is in the grip of a diabetic foot amputation crisis](https://www.bmj.com/content/385/bmj.q350.full)\n"
      ]
    },
    {
      "cell_type": "code",
      "execution_count": null,
      "id": "a4f5c146-c13f-47cf-97df-2a68acf5bd1d",
      "metadata": {
        "id": "a4f5c146-c13f-47cf-97df-2a68acf5bd1d"
      },
      "outputs": [],
      "source": []
    }
  ],
  "metadata": {
    "kernelspec": {
      "display_name": "Python 3 (ipykernel)",
      "language": "python",
      "name": "python3"
    },
    "language_info": {
      "codemirror_mode": {
        "name": "ipython",
        "version": 3
      },
      "file_extension": ".py",
      "mimetype": "text/x-python",
      "name": "python",
      "nbconvert_exporter": "python",
      "pygments_lexer": "ipython3",
      "version": "3.12.4"
    },
    "colab": {
      "provenance": [],
      "include_colab_link": true
    }
  },
  "nbformat": 4,
  "nbformat_minor": 5
}